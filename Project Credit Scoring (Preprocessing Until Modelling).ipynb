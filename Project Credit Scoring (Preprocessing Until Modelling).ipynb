{
 "cells": [
  {
   "cell_type": "code",
   "execution_count": 47,
   "metadata": {},
   "outputs": [],
   "source": [
    "# !pip uninstall numpy --yes\n",
    "# !pip install numpy==1.23.1"
   ]
  },
  {
   "cell_type": "code",
   "execution_count": 48,
   "metadata": {},
   "outputs": [],
   "source": [
    "import pandas as pd\n",
    "import numpy as np\n",
    "import matplotlib.pyplot as plt\n",
    "%matplotlib inline\n",
    "import joblib"
   ]
  },
  {
   "cell_type": "code",
   "execution_count": 49,
   "metadata": {},
   "outputs": [],
   "source": [
    "app_train = pd.read_csv(\"home-credit-default-risk/application_train.csv\")"
   ]
  },
  {
   "cell_type": "code",
   "execution_count": 50,
   "metadata": {},
   "outputs": [
    {
     "data": {
      "text/plain": [
       "(307511, 122)"
      ]
     },
     "execution_count": 50,
     "metadata": {},
     "output_type": "execute_result"
    }
   ],
   "source": [
    "app_train.shape"
   ]
  },
  {
   "cell_type": "code",
   "execution_count": 51,
   "metadata": {},
   "outputs": [
    {
     "data": {
      "text/plain": [
       "SK_ID_CURR                      int64\n",
       "TARGET                          int64\n",
       "NAME_CONTRACT_TYPE             object\n",
       "CODE_GENDER                    object\n",
       "FLAG_OWN_CAR                   object\n",
       "                               ...   \n",
       "AMT_REQ_CREDIT_BUREAU_DAY     float64\n",
       "AMT_REQ_CREDIT_BUREAU_WEEK    float64\n",
       "AMT_REQ_CREDIT_BUREAU_MON     float64\n",
       "AMT_REQ_CREDIT_BUREAU_QRT     float64\n",
       "AMT_REQ_CREDIT_BUREAU_YEAR    float64\n",
       "Length: 122, dtype: object"
      ]
     },
     "execution_count": 51,
     "metadata": {},
     "output_type": "execute_result"
    }
   ],
   "source": [
    "app_train.dtypes"
   ]
  },
  {
   "cell_type": "markdown",
   "metadata": {},
   "source": [
    "### 1. Checking Duplicate Data"
   ]
  },
  {
   "cell_type": "code",
   "execution_count": 52,
   "metadata": {},
   "outputs": [
    {
     "data": {
      "text/plain": [
       "0"
      ]
     },
     "execution_count": 52,
     "metadata": {},
     "output_type": "execute_result"
    }
   ],
   "source": [
    "app_train.duplicated().sum()"
   ]
  },
  {
   "cell_type": "code",
   "execution_count": 53,
   "metadata": {},
   "outputs": [],
   "source": [
    "# app_train.drop_duplicates()"
   ]
  },
  {
   "cell_type": "markdown",
   "metadata": {},
   "source": [
    "### 2. Handling Missing Value"
   ]
  },
  {
   "cell_type": "code",
   "execution_count": 54,
   "metadata": {
    "scrolled": true
   },
   "outputs": [
    {
     "data": {
      "text/html": [
       "<div>\n",
       "<style scoped>\n",
       "    .dataframe tbody tr th:only-of-type {\n",
       "        vertical-align: middle;\n",
       "    }\n",
       "\n",
       "    .dataframe tbody tr th {\n",
       "        vertical-align: top;\n",
       "    }\n",
       "\n",
       "    .dataframe thead th {\n",
       "        text-align: right;\n",
       "    }\n",
       "</style>\n",
       "<table border=\"1\" class=\"dataframe\">\n",
       "  <thead>\n",
       "    <tr style=\"text-align: right;\">\n",
       "      <th></th>\n",
       "      <th>null_counts</th>\n",
       "      <th>null_percentage</th>\n",
       "    </tr>\n",
       "    <tr>\n",
       "      <th>column_name</th>\n",
       "      <th></th>\n",
       "      <th></th>\n",
       "    </tr>\n",
       "  </thead>\n",
       "  <tbody>\n",
       "    <tr>\n",
       "      <th>SK_ID_CURR</th>\n",
       "      <td>0</td>\n",
       "      <td>0.00</td>\n",
       "    </tr>\n",
       "    <tr>\n",
       "      <th>HOUR_APPR_PROCESS_START</th>\n",
       "      <td>0</td>\n",
       "      <td>0.00</td>\n",
       "    </tr>\n",
       "    <tr>\n",
       "      <th>REG_REGION_NOT_WORK_REGION</th>\n",
       "      <td>0</td>\n",
       "      <td>0.00</td>\n",
       "    </tr>\n",
       "    <tr>\n",
       "      <th>LIVE_REGION_NOT_WORK_REGION</th>\n",
       "      <td>0</td>\n",
       "      <td>0.00</td>\n",
       "    </tr>\n",
       "    <tr>\n",
       "      <th>REG_CITY_NOT_LIVE_CITY</th>\n",
       "      <td>0</td>\n",
       "      <td>0.00</td>\n",
       "    </tr>\n",
       "    <tr>\n",
       "      <th>...</th>\n",
       "      <td>...</td>\n",
       "      <td>...</td>\n",
       "    </tr>\n",
       "    <tr>\n",
       "      <th>NONLIVINGAPARTMENTS_MEDI</th>\n",
       "      <td>213514</td>\n",
       "      <td>69.43</td>\n",
       "    </tr>\n",
       "    <tr>\n",
       "      <th>NONLIVINGAPARTMENTS_MODE</th>\n",
       "      <td>213514</td>\n",
       "      <td>69.43</td>\n",
       "    </tr>\n",
       "    <tr>\n",
       "      <th>COMMONAREA_MODE</th>\n",
       "      <td>214865</td>\n",
       "      <td>69.87</td>\n",
       "    </tr>\n",
       "    <tr>\n",
       "      <th>COMMONAREA_AVG</th>\n",
       "      <td>214865</td>\n",
       "      <td>69.87</td>\n",
       "    </tr>\n",
       "    <tr>\n",
       "      <th>COMMONAREA_MEDI</th>\n",
       "      <td>214865</td>\n",
       "      <td>69.87</td>\n",
       "    </tr>\n",
       "  </tbody>\n",
       "</table>\n",
       "<p>122 rows × 2 columns</p>\n",
       "</div>"
      ],
      "text/plain": [
       "                             null_counts  null_percentage\n",
       "column_name                                              \n",
       "SK_ID_CURR                             0             0.00\n",
       "HOUR_APPR_PROCESS_START                0             0.00\n",
       "REG_REGION_NOT_WORK_REGION             0             0.00\n",
       "LIVE_REGION_NOT_WORK_REGION            0             0.00\n",
       "REG_CITY_NOT_LIVE_CITY                 0             0.00\n",
       "...                                  ...              ...\n",
       "NONLIVINGAPARTMENTS_MEDI          213514            69.43\n",
       "NONLIVINGAPARTMENTS_MODE          213514            69.43\n",
       "COMMONAREA_MODE                   214865            69.87\n",
       "COMMONAREA_AVG                    214865            69.87\n",
       "COMMONAREA_MEDI                   214865            69.87\n",
       "\n",
       "[122 rows x 2 columns]"
      ]
     },
     "execution_count": 54,
     "metadata": {},
     "output_type": "execute_result"
    }
   ],
   "source": [
    "null = app_train.isna().sum().reset_index().rename(columns = {\"index\": \"column_name\", 0: \"null_counts\"}).sort_values(by = [\"null_counts\"])\n",
    "null = null.set_index(\"column_name\")\n",
    "null[\"null_percentage\"] = (null[\"null_counts\"] / app_train.shape[0] * 100).round(2)\n",
    "null"
   ]
  },
  {
   "cell_type": "code",
   "execution_count": 55,
   "metadata": {},
   "outputs": [],
   "source": [
    "# Delete columns that have >20% missing values\n",
    "del_column = list(null[null[\"null_percentage\"] > 20].index)\n",
    "\n",
    "app_train.drop(columns = del_column, inplace = True)"
   ]
  },
  {
   "cell_type": "code",
   "execution_count": 56,
   "metadata": {},
   "outputs": [
    {
     "data": {
      "text/plain": [
       "(307511, 72)"
      ]
     },
     "execution_count": 56,
     "metadata": {},
     "output_type": "execute_result"
    }
   ],
   "source": [
    "app_train.shape"
   ]
  },
  {
   "cell_type": "code",
   "execution_count": 57,
   "metadata": {},
   "outputs": [
    {
     "data": {
      "text/plain": [
       "72"
      ]
     },
     "execution_count": 57,
     "metadata": {},
     "output_type": "execute_result"
    }
   ],
   "source": [
    "# See the missing value percentage of other columns (<20%)\n",
    "null2 = null.drop(del_column, axis = 0)\n",
    "len(null2)"
   ]
  },
  {
   "cell_type": "code",
   "execution_count": 58,
   "metadata": {},
   "outputs": [
    {
     "data": {
      "text/html": [
       "<div>\n",
       "<style scoped>\n",
       "    .dataframe tbody tr th:only-of-type {\n",
       "        vertical-align: middle;\n",
       "    }\n",
       "\n",
       "    .dataframe tbody tr th {\n",
       "        vertical-align: top;\n",
       "    }\n",
       "\n",
       "    .dataframe thead th {\n",
       "        text-align: right;\n",
       "    }\n",
       "</style>\n",
       "<table border=\"1\" class=\"dataframe\">\n",
       "  <thead>\n",
       "    <tr style=\"text-align: right;\">\n",
       "      <th></th>\n",
       "      <th>null_counts</th>\n",
       "      <th>null_percentage</th>\n",
       "    </tr>\n",
       "    <tr>\n",
       "      <th>column_name</th>\n",
       "      <th></th>\n",
       "      <th></th>\n",
       "    </tr>\n",
       "  </thead>\n",
       "  <tbody>\n",
       "    <tr>\n",
       "      <th>SK_ID_CURR</th>\n",
       "      <td>0</td>\n",
       "      <td>0.00</td>\n",
       "    </tr>\n",
       "    <tr>\n",
       "      <th>HOUR_APPR_PROCESS_START</th>\n",
       "      <td>0</td>\n",
       "      <td>0.00</td>\n",
       "    </tr>\n",
       "    <tr>\n",
       "      <th>REG_REGION_NOT_WORK_REGION</th>\n",
       "      <td>0</td>\n",
       "      <td>0.00</td>\n",
       "    </tr>\n",
       "    <tr>\n",
       "      <th>LIVE_REGION_NOT_WORK_REGION</th>\n",
       "      <td>0</td>\n",
       "      <td>0.00</td>\n",
       "    </tr>\n",
       "    <tr>\n",
       "      <th>REG_CITY_NOT_LIVE_CITY</th>\n",
       "      <td>0</td>\n",
       "      <td>0.00</td>\n",
       "    </tr>\n",
       "    <tr>\n",
       "      <th>...</th>\n",
       "      <td>...</td>\n",
       "      <td>...</td>\n",
       "    </tr>\n",
       "    <tr>\n",
       "      <th>AMT_REQ_CREDIT_BUREAU_MON</th>\n",
       "      <td>41519</td>\n",
       "      <td>13.50</td>\n",
       "    </tr>\n",
       "    <tr>\n",
       "      <th>AMT_REQ_CREDIT_BUREAU_WEEK</th>\n",
       "      <td>41519</td>\n",
       "      <td>13.50</td>\n",
       "    </tr>\n",
       "    <tr>\n",
       "      <th>AMT_REQ_CREDIT_BUREAU_YEAR</th>\n",
       "      <td>41519</td>\n",
       "      <td>13.50</td>\n",
       "    </tr>\n",
       "    <tr>\n",
       "      <th>AMT_REQ_CREDIT_BUREAU_QRT</th>\n",
       "      <td>41519</td>\n",
       "      <td>13.50</td>\n",
       "    </tr>\n",
       "    <tr>\n",
       "      <th>EXT_SOURCE_3</th>\n",
       "      <td>60965</td>\n",
       "      <td>19.83</td>\n",
       "    </tr>\n",
       "  </tbody>\n",
       "</table>\n",
       "<p>72 rows × 2 columns</p>\n",
       "</div>"
      ],
      "text/plain": [
       "                             null_counts  null_percentage\n",
       "column_name                                              \n",
       "SK_ID_CURR                             0             0.00\n",
       "HOUR_APPR_PROCESS_START                0             0.00\n",
       "REG_REGION_NOT_WORK_REGION             0             0.00\n",
       "LIVE_REGION_NOT_WORK_REGION            0             0.00\n",
       "REG_CITY_NOT_LIVE_CITY                 0             0.00\n",
       "...                                  ...              ...\n",
       "AMT_REQ_CREDIT_BUREAU_MON          41519            13.50\n",
       "AMT_REQ_CREDIT_BUREAU_WEEK         41519            13.50\n",
       "AMT_REQ_CREDIT_BUREAU_YEAR         41519            13.50\n",
       "AMT_REQ_CREDIT_BUREAU_QRT          41519            13.50\n",
       "EXT_SOURCE_3                       60965            19.83\n",
       "\n",
       "[72 rows x 2 columns]"
      ]
     },
     "execution_count": 58,
     "metadata": {},
     "output_type": "execute_result"
    }
   ],
   "source": [
    "null2"
   ]
  },
  {
   "cell_type": "code",
   "execution_count": 59,
   "metadata": {
    "scrolled": true
   },
   "outputs": [
    {
     "data": {
      "text/plain": [
       "SK_ID_CURR                      int64\n",
       "TARGET                          int64\n",
       "NAME_CONTRACT_TYPE             object\n",
       "CODE_GENDER                    object\n",
       "FLAG_OWN_CAR                   object\n",
       "                               ...   \n",
       "AMT_REQ_CREDIT_BUREAU_DAY     float64\n",
       "AMT_REQ_CREDIT_BUREAU_WEEK    float64\n",
       "AMT_REQ_CREDIT_BUREAU_MON     float64\n",
       "AMT_REQ_CREDIT_BUREAU_QRT     float64\n",
       "AMT_REQ_CREDIT_BUREAU_YEAR    float64\n",
       "Length: 72, dtype: object"
      ]
     },
     "execution_count": 59,
     "metadata": {},
     "output_type": "execute_result"
    }
   ],
   "source": [
    "app_train.dtypes"
   ]
  },
  {
   "cell_type": "markdown",
   "metadata": {},
   "source": [
    "#### 2a. Change The Dtype"
   ]
  },
  {
   "cell_type": "code",
   "execution_count": 60,
   "metadata": {},
   "outputs": [],
   "source": [
    "# Change the dtype of TARGET\n",
    "app_train[\"TARGET\"] = app_train[\"TARGET\"].astype(object)"
   ]
  },
  {
   "cell_type": "code",
   "execution_count": 61,
   "metadata": {},
   "outputs": [
    {
     "data": {
      "text/plain": [
       "(60, 12)"
      ]
     },
     "execution_count": 61,
     "metadata": {},
     "output_type": "execute_result"
    }
   ],
   "source": [
    "# Numerical columns\n",
    "list_num = list(app_train.select_dtypes(include = \"number\").columns)\n",
    "\n",
    "# Categorical columns\n",
    "list_cat = list(app_train.select_dtypes(include = \"object\").columns)\n",
    "\n",
    "len(list_num), len(list_cat)"
   ]
  },
  {
   "cell_type": "code",
   "execution_count": 62,
   "metadata": {},
   "outputs": [],
   "source": [
    "num_to_cat = ['FLAG_MOBIL', 'FLAG_EMP_PHONE', 'FLAG_WORK_PHONE', 'FLAG_CONT_MOBILE', 'FLAG_PHONE', \n",
    "              'FLAG_EMAIL', 'REGION_RATING_CLIENT', 'REGION_RATING_CLIENT_W_CITY', \n",
    "              'REG_REGION_NOT_LIVE_REGION', 'REG_REGION_NOT_WORK_REGION', 'LIVE_REGION_NOT_WORK_REGION', \n",
    "              'REG_CITY_NOT_LIVE_CITY', 'REG_CITY_NOT_WORK_CITY', 'LIVE_CITY_NOT_WORK_CITY',\n",
    "              'FLAG_DOCUMENT_2', 'FLAG_DOCUMENT_3', 'FLAG_DOCUMENT_4', 'FLAG_DOCUMENT_5', \n",
    "              'FLAG_DOCUMENT_6', 'FLAG_DOCUMENT_7', 'FLAG_DOCUMENT_8', 'FLAG_DOCUMENT_9', \n",
    "              'FLAG_DOCUMENT_10', 'FLAG_DOCUMENT_11','FLAG_DOCUMENT_12', 'FLAG_DOCUMENT_13', \n",
    "              'FLAG_DOCUMENT_14', 'FLAG_DOCUMENT_15', 'FLAG_DOCUMENT_16','FLAG_DOCUMENT_17', \n",
    "              'FLAG_DOCUMENT_18', 'FLAG_DOCUMENT_19', 'FLAG_DOCUMENT_20', 'FLAG_DOCUMENT_21']"
   ]
  },
  {
   "cell_type": "code",
   "execution_count": 63,
   "metadata": {},
   "outputs": [],
   "source": [
    "app_train[num_to_cat] = app_train[num_to_cat].astype(object)"
   ]
  },
  {
   "cell_type": "code",
   "execution_count": 64,
   "metadata": {},
   "outputs": [
    {
     "data": {
      "text/plain": [
       "(26, 46)"
      ]
     },
     "execution_count": 64,
     "metadata": {},
     "output_type": "execute_result"
    }
   ],
   "source": [
    "# Update numerical and categorical columns\n",
    "list_num = list(app_train.select_dtypes(include = \"number\").columns)\n",
    "list_cat = list(app_train.select_dtypes(include = \"object\").columns)\n",
    "\n",
    "len(list_num), len(list_cat)"
   ]
  },
  {
   "cell_type": "code",
   "execution_count": 65,
   "metadata": {},
   "outputs": [
    {
     "data": {
      "text/plain": [
       "SK_ID_CURR                      int64\n",
       "TARGET                         object\n",
       "NAME_CONTRACT_TYPE             object\n",
       "CODE_GENDER                    object\n",
       "FLAG_OWN_CAR                   object\n",
       "                               ...   \n",
       "AMT_REQ_CREDIT_BUREAU_DAY     float64\n",
       "AMT_REQ_CREDIT_BUREAU_WEEK    float64\n",
       "AMT_REQ_CREDIT_BUREAU_MON     float64\n",
       "AMT_REQ_CREDIT_BUREAU_QRT     float64\n",
       "AMT_REQ_CREDIT_BUREAU_YEAR    float64\n",
       "Length: 72, dtype: object"
      ]
     },
     "execution_count": 65,
     "metadata": {},
     "output_type": "execute_result"
    }
   ],
   "source": [
    "app_train.dtypes"
   ]
  },
  {
   "cell_type": "code",
   "execution_count": 66,
   "metadata": {},
   "outputs": [
    {
     "data": {
      "text/plain": [
       "SK_ID_CURR                        0\n",
       "CNT_CHILDREN                      0\n",
       "AMT_INCOME_TOTAL                  0\n",
       "AMT_CREDIT                        0\n",
       "AMT_ANNUITY                      12\n",
       "AMT_GOODS_PRICE                 278\n",
       "REGION_POPULATION_RELATIVE        0\n",
       "DAYS_BIRTH                        0\n",
       "DAYS_EMPLOYED                     0\n",
       "DAYS_REGISTRATION                 0\n",
       "DAYS_ID_PUBLISH                   0\n",
       "CNT_FAM_MEMBERS                   2\n",
       "HOUR_APPR_PROCESS_START           0\n",
       "EXT_SOURCE_2                    660\n",
       "EXT_SOURCE_3                  60965\n",
       "OBS_30_CNT_SOCIAL_CIRCLE       1021\n",
       "DEF_30_CNT_SOCIAL_CIRCLE       1021\n",
       "OBS_60_CNT_SOCIAL_CIRCLE       1021\n",
       "DEF_60_CNT_SOCIAL_CIRCLE       1021\n",
       "DAYS_LAST_PHONE_CHANGE            1\n",
       "AMT_REQ_CREDIT_BUREAU_HOUR    41519\n",
       "AMT_REQ_CREDIT_BUREAU_DAY     41519\n",
       "AMT_REQ_CREDIT_BUREAU_WEEK    41519\n",
       "AMT_REQ_CREDIT_BUREAU_MON     41519\n",
       "AMT_REQ_CREDIT_BUREAU_QRT     41519\n",
       "AMT_REQ_CREDIT_BUREAU_YEAR    41519\n",
       "dtype: int64"
      ]
     },
     "execution_count": 66,
     "metadata": {},
     "output_type": "execute_result"
    }
   ],
   "source": [
    "# Missing in numerical data\n",
    "app_train[list_num].isna().sum()"
   ]
  },
  {
   "cell_type": "code",
   "execution_count": 67,
   "metadata": {},
   "outputs": [
    {
     "data": {
      "text/plain": [
       "['list_num.pkl']"
      ]
     },
     "execution_count": 67,
     "metadata": {},
     "output_type": "execute_result"
    }
   ],
   "source": [
    "# save\n",
    "joblib.dump(list_num, \"list_num.pkl\")"
   ]
  },
  {
   "cell_type": "code",
   "execution_count": 68,
   "metadata": {},
   "outputs": [],
   "source": [
    "num_mean = app_train[list_num].mean()\n",
    "num_mean.to_csv(\"num_mean.csv\")"
   ]
  },
  {
   "cell_type": "code",
   "execution_count": 69,
   "metadata": {},
   "outputs": [
    {
     "data": {
      "text/plain": [
       "SK_ID_CURR                    0\n",
       "CNT_CHILDREN                  0\n",
       "AMT_INCOME_TOTAL              0\n",
       "AMT_CREDIT                    0\n",
       "AMT_ANNUITY                   0\n",
       "AMT_GOODS_PRICE               0\n",
       "REGION_POPULATION_RELATIVE    0\n",
       "DAYS_BIRTH                    0\n",
       "DAYS_EMPLOYED                 0\n",
       "DAYS_REGISTRATION             0\n",
       "DAYS_ID_PUBLISH               0\n",
       "CNT_FAM_MEMBERS               0\n",
       "HOUR_APPR_PROCESS_START       0\n",
       "EXT_SOURCE_2                  0\n",
       "EXT_SOURCE_3                  0\n",
       "OBS_30_CNT_SOCIAL_CIRCLE      0\n",
       "DEF_30_CNT_SOCIAL_CIRCLE      0\n",
       "OBS_60_CNT_SOCIAL_CIRCLE      0\n",
       "DEF_60_CNT_SOCIAL_CIRCLE      0\n",
       "DAYS_LAST_PHONE_CHANGE        0\n",
       "AMT_REQ_CREDIT_BUREAU_HOUR    0\n",
       "AMT_REQ_CREDIT_BUREAU_DAY     0\n",
       "AMT_REQ_CREDIT_BUREAU_WEEK    0\n",
       "AMT_REQ_CREDIT_BUREAU_MON     0\n",
       "AMT_REQ_CREDIT_BUREAU_QRT     0\n",
       "AMT_REQ_CREDIT_BUREAU_YEAR    0\n",
       "dtype: int64"
      ]
     },
     "execution_count": 69,
     "metadata": {},
     "output_type": "execute_result"
    }
   ],
   "source": [
    "# Impute missing value in numerical data using \"mean\"\n",
    "app_train[list_num] = app_train[list_num].fillna(app_train[list_num].mean())\n",
    "app_train[list_num].isna().sum()"
   ]
  },
  {
   "cell_type": "code",
   "execution_count": 70,
   "metadata": {},
   "outputs": [
    {
     "data": {
      "text/plain": [
       "TARGET                            0\n",
       "NAME_CONTRACT_TYPE                0\n",
       "CODE_GENDER                       0\n",
       "FLAG_OWN_CAR                      0\n",
       "FLAG_OWN_REALTY                   0\n",
       "NAME_TYPE_SUITE                1292\n",
       "NAME_INCOME_TYPE                  0\n",
       "NAME_EDUCATION_TYPE               0\n",
       "NAME_FAMILY_STATUS                0\n",
       "NAME_HOUSING_TYPE                 0\n",
       "FLAG_MOBIL                        0\n",
       "FLAG_EMP_PHONE                    0\n",
       "FLAG_WORK_PHONE                   0\n",
       "FLAG_CONT_MOBILE                  0\n",
       "FLAG_PHONE                        0\n",
       "FLAG_EMAIL                        0\n",
       "REGION_RATING_CLIENT              0\n",
       "REGION_RATING_CLIENT_W_CITY       0\n",
       "WEEKDAY_APPR_PROCESS_START        0\n",
       "REG_REGION_NOT_LIVE_REGION        0\n",
       "REG_REGION_NOT_WORK_REGION        0\n",
       "LIVE_REGION_NOT_WORK_REGION       0\n",
       "REG_CITY_NOT_LIVE_CITY            0\n",
       "REG_CITY_NOT_WORK_CITY            0\n",
       "LIVE_CITY_NOT_WORK_CITY           0\n",
       "ORGANIZATION_TYPE                 0\n",
       "FLAG_DOCUMENT_2                   0\n",
       "FLAG_DOCUMENT_3                   0\n",
       "FLAG_DOCUMENT_4                   0\n",
       "FLAG_DOCUMENT_5                   0\n",
       "FLAG_DOCUMENT_6                   0\n",
       "FLAG_DOCUMENT_7                   0\n",
       "FLAG_DOCUMENT_8                   0\n",
       "FLAG_DOCUMENT_9                   0\n",
       "FLAG_DOCUMENT_10                  0\n",
       "FLAG_DOCUMENT_11                  0\n",
       "FLAG_DOCUMENT_12                  0\n",
       "FLAG_DOCUMENT_13                  0\n",
       "FLAG_DOCUMENT_14                  0\n",
       "FLAG_DOCUMENT_15                  0\n",
       "FLAG_DOCUMENT_16                  0\n",
       "FLAG_DOCUMENT_17                  0\n",
       "FLAG_DOCUMENT_18                  0\n",
       "FLAG_DOCUMENT_19                  0\n",
       "FLAG_DOCUMENT_20                  0\n",
       "FLAG_DOCUMENT_21                  0\n",
       "dtype: int64"
      ]
     },
     "execution_count": 70,
     "metadata": {},
     "output_type": "execute_result"
    }
   ],
   "source": [
    "# Missing in categorical data\n",
    "app_train[list_cat].isna().sum()"
   ]
  },
  {
   "cell_type": "code",
   "execution_count": 71,
   "metadata": {},
   "outputs": [],
   "source": [
    "dict_cat_mode = {}\n",
    "\n",
    "for i in list_cat:\n",
    "    mode_value = app_train[i].mode()[0]\n",
    "    dict_cat_mode[i] = mode_value\n",
    "    \n",
    "del dict_cat_mode[\"TARGET\"]"
   ]
  },
  {
   "cell_type": "code",
   "execution_count": 72,
   "metadata": {},
   "outputs": [
    {
     "data": {
      "text/plain": [
       "['dict_cat_mode.pkl']"
      ]
     },
     "execution_count": 72,
     "metadata": {},
     "output_type": "execute_result"
    }
   ],
   "source": [
    "# save\n",
    "joblib.dump(dict_cat_mode, \"dict_cat_mode.pkl\")"
   ]
  },
  {
   "cell_type": "code",
   "execution_count": 73,
   "metadata": {
    "scrolled": true
   },
   "outputs": [
    {
     "data": {
      "text/plain": [
       "TARGET                         0\n",
       "NAME_CONTRACT_TYPE             0\n",
       "CODE_GENDER                    0\n",
       "FLAG_OWN_CAR                   0\n",
       "FLAG_OWN_REALTY                0\n",
       "NAME_TYPE_SUITE                0\n",
       "NAME_INCOME_TYPE               0\n",
       "NAME_EDUCATION_TYPE            0\n",
       "NAME_FAMILY_STATUS             0\n",
       "NAME_HOUSING_TYPE              0\n",
       "FLAG_MOBIL                     0\n",
       "FLAG_EMP_PHONE                 0\n",
       "FLAG_WORK_PHONE                0\n",
       "FLAG_CONT_MOBILE               0\n",
       "FLAG_PHONE                     0\n",
       "FLAG_EMAIL                     0\n",
       "REGION_RATING_CLIENT           0\n",
       "REGION_RATING_CLIENT_W_CITY    0\n",
       "WEEKDAY_APPR_PROCESS_START     0\n",
       "REG_REGION_NOT_LIVE_REGION     0\n",
       "REG_REGION_NOT_WORK_REGION     0\n",
       "LIVE_REGION_NOT_WORK_REGION    0\n",
       "REG_CITY_NOT_LIVE_CITY         0\n",
       "REG_CITY_NOT_WORK_CITY         0\n",
       "LIVE_CITY_NOT_WORK_CITY        0\n",
       "ORGANIZATION_TYPE              0\n",
       "FLAG_DOCUMENT_2                0\n",
       "FLAG_DOCUMENT_3                0\n",
       "FLAG_DOCUMENT_4                0\n",
       "FLAG_DOCUMENT_5                0\n",
       "FLAG_DOCUMENT_6                0\n",
       "FLAG_DOCUMENT_7                0\n",
       "FLAG_DOCUMENT_8                0\n",
       "FLAG_DOCUMENT_9                0\n",
       "FLAG_DOCUMENT_10               0\n",
       "FLAG_DOCUMENT_11               0\n",
       "FLAG_DOCUMENT_12               0\n",
       "FLAG_DOCUMENT_13               0\n",
       "FLAG_DOCUMENT_14               0\n",
       "FLAG_DOCUMENT_15               0\n",
       "FLAG_DOCUMENT_16               0\n",
       "FLAG_DOCUMENT_17               0\n",
       "FLAG_DOCUMENT_18               0\n",
       "FLAG_DOCUMENT_19               0\n",
       "FLAG_DOCUMENT_20               0\n",
       "FLAG_DOCUMENT_21               0\n",
       "dtype: int64"
      ]
     },
     "execution_count": 73,
     "metadata": {},
     "output_type": "execute_result"
    }
   ],
   "source": [
    "# Impute missing value in categorical data using \"mode\"\n",
    "app_train[\"NAME_TYPE_SUITE\"] = app_train[\"NAME_TYPE_SUITE\"].fillna(app_train[\"NAME_TYPE_SUITE\"].mode()[0])\n",
    "app_train[list_cat].isna().sum()"
   ]
  },
  {
   "cell_type": "markdown",
   "metadata": {},
   "source": [
    "#### 2b. Exploring Numerical and Categorical Data"
   ]
  },
  {
   "cell_type": "code",
   "execution_count": 74,
   "metadata": {},
   "outputs": [],
   "source": [
    "# CATEGORICAL DATA"
   ]
  },
  {
   "cell_type": "code",
   "execution_count": 75,
   "metadata": {},
   "outputs": [
    {
     "data": {
      "text/html": [
       "<div>\n",
       "<style scoped>\n",
       "    .dataframe tbody tr th:only-of-type {\n",
       "        vertical-align: middle;\n",
       "    }\n",
       "\n",
       "    .dataframe tbody tr th {\n",
       "        vertical-align: top;\n",
       "    }\n",
       "\n",
       "    .dataframe thead th {\n",
       "        text-align: right;\n",
       "    }\n",
       "</style>\n",
       "<table border=\"1\" class=\"dataframe\">\n",
       "  <thead>\n",
       "    <tr style=\"text-align: right;\">\n",
       "      <th></th>\n",
       "      <th>count</th>\n",
       "      <th>unique</th>\n",
       "      <th>top</th>\n",
       "      <th>freq</th>\n",
       "    </tr>\n",
       "  </thead>\n",
       "  <tbody>\n",
       "    <tr>\n",
       "      <th>TARGET</th>\n",
       "      <td>307511</td>\n",
       "      <td>2</td>\n",
       "      <td>0</td>\n",
       "      <td>282686</td>\n",
       "    </tr>\n",
       "    <tr>\n",
       "      <th>NAME_CONTRACT_TYPE</th>\n",
       "      <td>307511</td>\n",
       "      <td>2</td>\n",
       "      <td>Cash loans</td>\n",
       "      <td>278232</td>\n",
       "    </tr>\n",
       "    <tr>\n",
       "      <th>CODE_GENDER</th>\n",
       "      <td>307511</td>\n",
       "      <td>3</td>\n",
       "      <td>F</td>\n",
       "      <td>202448</td>\n",
       "    </tr>\n",
       "    <tr>\n",
       "      <th>FLAG_OWN_CAR</th>\n",
       "      <td>307511</td>\n",
       "      <td>2</td>\n",
       "      <td>N</td>\n",
       "      <td>202924</td>\n",
       "    </tr>\n",
       "    <tr>\n",
       "      <th>FLAG_OWN_REALTY</th>\n",
       "      <td>307511</td>\n",
       "      <td>2</td>\n",
       "      <td>Y</td>\n",
       "      <td>213312</td>\n",
       "    </tr>\n",
       "    <tr>\n",
       "      <th>NAME_TYPE_SUITE</th>\n",
       "      <td>307511</td>\n",
       "      <td>7</td>\n",
       "      <td>Unaccompanied</td>\n",
       "      <td>249818</td>\n",
       "    </tr>\n",
       "    <tr>\n",
       "      <th>NAME_INCOME_TYPE</th>\n",
       "      <td>307511</td>\n",
       "      <td>8</td>\n",
       "      <td>Working</td>\n",
       "      <td>158774</td>\n",
       "    </tr>\n",
       "    <tr>\n",
       "      <th>NAME_EDUCATION_TYPE</th>\n",
       "      <td>307511</td>\n",
       "      <td>5</td>\n",
       "      <td>Secondary / secondary special</td>\n",
       "      <td>218391</td>\n",
       "    </tr>\n",
       "    <tr>\n",
       "      <th>NAME_FAMILY_STATUS</th>\n",
       "      <td>307511</td>\n",
       "      <td>6</td>\n",
       "      <td>Married</td>\n",
       "      <td>196432</td>\n",
       "    </tr>\n",
       "    <tr>\n",
       "      <th>NAME_HOUSING_TYPE</th>\n",
       "      <td>307511</td>\n",
       "      <td>6</td>\n",
       "      <td>House / apartment</td>\n",
       "      <td>272868</td>\n",
       "    </tr>\n",
       "    <tr>\n",
       "      <th>FLAG_MOBIL</th>\n",
       "      <td>307511</td>\n",
       "      <td>2</td>\n",
       "      <td>1</td>\n",
       "      <td>307510</td>\n",
       "    </tr>\n",
       "    <tr>\n",
       "      <th>FLAG_EMP_PHONE</th>\n",
       "      <td>307511</td>\n",
       "      <td>2</td>\n",
       "      <td>1</td>\n",
       "      <td>252125</td>\n",
       "    </tr>\n",
       "    <tr>\n",
       "      <th>FLAG_WORK_PHONE</th>\n",
       "      <td>307511</td>\n",
       "      <td>2</td>\n",
       "      <td>0</td>\n",
       "      <td>246203</td>\n",
       "    </tr>\n",
       "    <tr>\n",
       "      <th>FLAG_CONT_MOBILE</th>\n",
       "      <td>307511</td>\n",
       "      <td>2</td>\n",
       "      <td>1</td>\n",
       "      <td>306937</td>\n",
       "    </tr>\n",
       "    <tr>\n",
       "      <th>FLAG_PHONE</th>\n",
       "      <td>307511</td>\n",
       "      <td>2</td>\n",
       "      <td>0</td>\n",
       "      <td>221080</td>\n",
       "    </tr>\n",
       "    <tr>\n",
       "      <th>FLAG_EMAIL</th>\n",
       "      <td>307511</td>\n",
       "      <td>2</td>\n",
       "      <td>0</td>\n",
       "      <td>290069</td>\n",
       "    </tr>\n",
       "    <tr>\n",
       "      <th>REGION_RATING_CLIENT</th>\n",
       "      <td>307511</td>\n",
       "      <td>3</td>\n",
       "      <td>2</td>\n",
       "      <td>226984</td>\n",
       "    </tr>\n",
       "    <tr>\n",
       "      <th>REGION_RATING_CLIENT_W_CITY</th>\n",
       "      <td>307511</td>\n",
       "      <td>3</td>\n",
       "      <td>2</td>\n",
       "      <td>229484</td>\n",
       "    </tr>\n",
       "    <tr>\n",
       "      <th>WEEKDAY_APPR_PROCESS_START</th>\n",
       "      <td>307511</td>\n",
       "      <td>7</td>\n",
       "      <td>TUESDAY</td>\n",
       "      <td>53901</td>\n",
       "    </tr>\n",
       "    <tr>\n",
       "      <th>REG_REGION_NOT_LIVE_REGION</th>\n",
       "      <td>307511</td>\n",
       "      <td>2</td>\n",
       "      <td>0</td>\n",
       "      <td>302854</td>\n",
       "    </tr>\n",
       "    <tr>\n",
       "      <th>REG_REGION_NOT_WORK_REGION</th>\n",
       "      <td>307511</td>\n",
       "      <td>2</td>\n",
       "      <td>0</td>\n",
       "      <td>291899</td>\n",
       "    </tr>\n",
       "    <tr>\n",
       "      <th>LIVE_REGION_NOT_WORK_REGION</th>\n",
       "      <td>307511</td>\n",
       "      <td>2</td>\n",
       "      <td>0</td>\n",
       "      <td>295008</td>\n",
       "    </tr>\n",
       "    <tr>\n",
       "      <th>REG_CITY_NOT_LIVE_CITY</th>\n",
       "      <td>307511</td>\n",
       "      <td>2</td>\n",
       "      <td>0</td>\n",
       "      <td>283472</td>\n",
       "    </tr>\n",
       "    <tr>\n",
       "      <th>REG_CITY_NOT_WORK_CITY</th>\n",
       "      <td>307511</td>\n",
       "      <td>2</td>\n",
       "      <td>0</td>\n",
       "      <td>236644</td>\n",
       "    </tr>\n",
       "    <tr>\n",
       "      <th>LIVE_CITY_NOT_WORK_CITY</th>\n",
       "      <td>307511</td>\n",
       "      <td>2</td>\n",
       "      <td>0</td>\n",
       "      <td>252296</td>\n",
       "    </tr>\n",
       "    <tr>\n",
       "      <th>ORGANIZATION_TYPE</th>\n",
       "      <td>307511</td>\n",
       "      <td>58</td>\n",
       "      <td>Business Entity Type 3</td>\n",
       "      <td>67992</td>\n",
       "    </tr>\n",
       "    <tr>\n",
       "      <th>FLAG_DOCUMENT_2</th>\n",
       "      <td>307511</td>\n",
       "      <td>2</td>\n",
       "      <td>0</td>\n",
       "      <td>307498</td>\n",
       "    </tr>\n",
       "    <tr>\n",
       "      <th>FLAG_DOCUMENT_3</th>\n",
       "      <td>307511</td>\n",
       "      <td>2</td>\n",
       "      <td>1</td>\n",
       "      <td>218340</td>\n",
       "    </tr>\n",
       "    <tr>\n",
       "      <th>FLAG_DOCUMENT_4</th>\n",
       "      <td>307511</td>\n",
       "      <td>2</td>\n",
       "      <td>0</td>\n",
       "      <td>307486</td>\n",
       "    </tr>\n",
       "    <tr>\n",
       "      <th>FLAG_DOCUMENT_5</th>\n",
       "      <td>307511</td>\n",
       "      <td>2</td>\n",
       "      <td>0</td>\n",
       "      <td>302863</td>\n",
       "    </tr>\n",
       "    <tr>\n",
       "      <th>FLAG_DOCUMENT_6</th>\n",
       "      <td>307511</td>\n",
       "      <td>2</td>\n",
       "      <td>0</td>\n",
       "      <td>280433</td>\n",
       "    </tr>\n",
       "    <tr>\n",
       "      <th>FLAG_DOCUMENT_7</th>\n",
       "      <td>307511</td>\n",
       "      <td>2</td>\n",
       "      <td>0</td>\n",
       "      <td>307452</td>\n",
       "    </tr>\n",
       "    <tr>\n",
       "      <th>FLAG_DOCUMENT_8</th>\n",
       "      <td>307511</td>\n",
       "      <td>2</td>\n",
       "      <td>0</td>\n",
       "      <td>282487</td>\n",
       "    </tr>\n",
       "    <tr>\n",
       "      <th>FLAG_DOCUMENT_9</th>\n",
       "      <td>307511</td>\n",
       "      <td>2</td>\n",
       "      <td>0</td>\n",
       "      <td>306313</td>\n",
       "    </tr>\n",
       "    <tr>\n",
       "      <th>FLAG_DOCUMENT_10</th>\n",
       "      <td>307511</td>\n",
       "      <td>2</td>\n",
       "      <td>0</td>\n",
       "      <td>307504</td>\n",
       "    </tr>\n",
       "    <tr>\n",
       "      <th>FLAG_DOCUMENT_11</th>\n",
       "      <td>307511</td>\n",
       "      <td>2</td>\n",
       "      <td>0</td>\n",
       "      <td>306308</td>\n",
       "    </tr>\n",
       "    <tr>\n",
       "      <th>FLAG_DOCUMENT_12</th>\n",
       "      <td>307511</td>\n",
       "      <td>2</td>\n",
       "      <td>0</td>\n",
       "      <td>307509</td>\n",
       "    </tr>\n",
       "    <tr>\n",
       "      <th>FLAG_DOCUMENT_13</th>\n",
       "      <td>307511</td>\n",
       "      <td>2</td>\n",
       "      <td>0</td>\n",
       "      <td>306427</td>\n",
       "    </tr>\n",
       "    <tr>\n",
       "      <th>FLAG_DOCUMENT_14</th>\n",
       "      <td>307511</td>\n",
       "      <td>2</td>\n",
       "      <td>0</td>\n",
       "      <td>306608</td>\n",
       "    </tr>\n",
       "    <tr>\n",
       "      <th>FLAG_DOCUMENT_15</th>\n",
       "      <td>307511</td>\n",
       "      <td>2</td>\n",
       "      <td>0</td>\n",
       "      <td>307139</td>\n",
       "    </tr>\n",
       "    <tr>\n",
       "      <th>FLAG_DOCUMENT_16</th>\n",
       "      <td>307511</td>\n",
       "      <td>2</td>\n",
       "      <td>0</td>\n",
       "      <td>304458</td>\n",
       "    </tr>\n",
       "    <tr>\n",
       "      <th>FLAG_DOCUMENT_17</th>\n",
       "      <td>307511</td>\n",
       "      <td>2</td>\n",
       "      <td>0</td>\n",
       "      <td>307429</td>\n",
       "    </tr>\n",
       "    <tr>\n",
       "      <th>FLAG_DOCUMENT_18</th>\n",
       "      <td>307511</td>\n",
       "      <td>2</td>\n",
       "      <td>0</td>\n",
       "      <td>305011</td>\n",
       "    </tr>\n",
       "    <tr>\n",
       "      <th>FLAG_DOCUMENT_19</th>\n",
       "      <td>307511</td>\n",
       "      <td>2</td>\n",
       "      <td>0</td>\n",
       "      <td>307328</td>\n",
       "    </tr>\n",
       "    <tr>\n",
       "      <th>FLAG_DOCUMENT_20</th>\n",
       "      <td>307511</td>\n",
       "      <td>2</td>\n",
       "      <td>0</td>\n",
       "      <td>307355</td>\n",
       "    </tr>\n",
       "    <tr>\n",
       "      <th>FLAG_DOCUMENT_21</th>\n",
       "      <td>307511</td>\n",
       "      <td>2</td>\n",
       "      <td>0</td>\n",
       "      <td>307408</td>\n",
       "    </tr>\n",
       "  </tbody>\n",
       "</table>\n",
       "</div>"
      ],
      "text/plain": [
       "                              count unique                            top  \\\n",
       "TARGET                       307511      2                              0   \n",
       "NAME_CONTRACT_TYPE           307511      2                     Cash loans   \n",
       "CODE_GENDER                  307511      3                              F   \n",
       "FLAG_OWN_CAR                 307511      2                              N   \n",
       "FLAG_OWN_REALTY              307511      2                              Y   \n",
       "NAME_TYPE_SUITE              307511      7                  Unaccompanied   \n",
       "NAME_INCOME_TYPE             307511      8                        Working   \n",
       "NAME_EDUCATION_TYPE          307511      5  Secondary / secondary special   \n",
       "NAME_FAMILY_STATUS           307511      6                        Married   \n",
       "NAME_HOUSING_TYPE            307511      6              House / apartment   \n",
       "FLAG_MOBIL                   307511      2                              1   \n",
       "FLAG_EMP_PHONE               307511      2                              1   \n",
       "FLAG_WORK_PHONE              307511      2                              0   \n",
       "FLAG_CONT_MOBILE             307511      2                              1   \n",
       "FLAG_PHONE                   307511      2                              0   \n",
       "FLAG_EMAIL                   307511      2                              0   \n",
       "REGION_RATING_CLIENT         307511      3                              2   \n",
       "REGION_RATING_CLIENT_W_CITY  307511      3                              2   \n",
       "WEEKDAY_APPR_PROCESS_START   307511      7                        TUESDAY   \n",
       "REG_REGION_NOT_LIVE_REGION   307511      2                              0   \n",
       "REG_REGION_NOT_WORK_REGION   307511      2                              0   \n",
       "LIVE_REGION_NOT_WORK_REGION  307511      2                              0   \n",
       "REG_CITY_NOT_LIVE_CITY       307511      2                              0   \n",
       "REG_CITY_NOT_WORK_CITY       307511      2                              0   \n",
       "LIVE_CITY_NOT_WORK_CITY      307511      2                              0   \n",
       "ORGANIZATION_TYPE            307511     58         Business Entity Type 3   \n",
       "FLAG_DOCUMENT_2              307511      2                              0   \n",
       "FLAG_DOCUMENT_3              307511      2                              1   \n",
       "FLAG_DOCUMENT_4              307511      2                              0   \n",
       "FLAG_DOCUMENT_5              307511      2                              0   \n",
       "FLAG_DOCUMENT_6              307511      2                              0   \n",
       "FLAG_DOCUMENT_7              307511      2                              0   \n",
       "FLAG_DOCUMENT_8              307511      2                              0   \n",
       "FLAG_DOCUMENT_9              307511      2                              0   \n",
       "FLAG_DOCUMENT_10             307511      2                              0   \n",
       "FLAG_DOCUMENT_11             307511      2                              0   \n",
       "FLAG_DOCUMENT_12             307511      2                              0   \n",
       "FLAG_DOCUMENT_13             307511      2                              0   \n",
       "FLAG_DOCUMENT_14             307511      2                              0   \n",
       "FLAG_DOCUMENT_15             307511      2                              0   \n",
       "FLAG_DOCUMENT_16             307511      2                              0   \n",
       "FLAG_DOCUMENT_17             307511      2                              0   \n",
       "FLAG_DOCUMENT_18             307511      2                              0   \n",
       "FLAG_DOCUMENT_19             307511      2                              0   \n",
       "FLAG_DOCUMENT_20             307511      2                              0   \n",
       "FLAG_DOCUMENT_21             307511      2                              0   \n",
       "\n",
       "                               freq  \n",
       "TARGET                       282686  \n",
       "NAME_CONTRACT_TYPE           278232  \n",
       "CODE_GENDER                  202448  \n",
       "FLAG_OWN_CAR                 202924  \n",
       "FLAG_OWN_REALTY              213312  \n",
       "NAME_TYPE_SUITE              249818  \n",
       "NAME_INCOME_TYPE             158774  \n",
       "NAME_EDUCATION_TYPE          218391  \n",
       "NAME_FAMILY_STATUS           196432  \n",
       "NAME_HOUSING_TYPE            272868  \n",
       "FLAG_MOBIL                   307510  \n",
       "FLAG_EMP_PHONE               252125  \n",
       "FLAG_WORK_PHONE              246203  \n",
       "FLAG_CONT_MOBILE             306937  \n",
       "FLAG_PHONE                   221080  \n",
       "FLAG_EMAIL                   290069  \n",
       "REGION_RATING_CLIENT         226984  \n",
       "REGION_RATING_CLIENT_W_CITY  229484  \n",
       "WEEKDAY_APPR_PROCESS_START    53901  \n",
       "REG_REGION_NOT_LIVE_REGION   302854  \n",
       "REG_REGION_NOT_WORK_REGION   291899  \n",
       "LIVE_REGION_NOT_WORK_REGION  295008  \n",
       "REG_CITY_NOT_LIVE_CITY       283472  \n",
       "REG_CITY_NOT_WORK_CITY       236644  \n",
       "LIVE_CITY_NOT_WORK_CITY      252296  \n",
       "ORGANIZATION_TYPE             67992  \n",
       "FLAG_DOCUMENT_2              307498  \n",
       "FLAG_DOCUMENT_3              218340  \n",
       "FLAG_DOCUMENT_4              307486  \n",
       "FLAG_DOCUMENT_5              302863  \n",
       "FLAG_DOCUMENT_6              280433  \n",
       "FLAG_DOCUMENT_7              307452  \n",
       "FLAG_DOCUMENT_8              282487  \n",
       "FLAG_DOCUMENT_9              306313  \n",
       "FLAG_DOCUMENT_10             307504  \n",
       "FLAG_DOCUMENT_11             306308  \n",
       "FLAG_DOCUMENT_12             307509  \n",
       "FLAG_DOCUMENT_13             306427  \n",
       "FLAG_DOCUMENT_14             306608  \n",
       "FLAG_DOCUMENT_15             307139  \n",
       "FLAG_DOCUMENT_16             304458  \n",
       "FLAG_DOCUMENT_17             307429  \n",
       "FLAG_DOCUMENT_18             305011  \n",
       "FLAG_DOCUMENT_19             307328  \n",
       "FLAG_DOCUMENT_20             307355  \n",
       "FLAG_DOCUMENT_21             307408  "
      ]
     },
     "execution_count": 75,
     "metadata": {},
     "output_type": "execute_result"
    }
   ],
   "source": [
    "app_train[list_cat].describe().T"
   ]
  },
  {
   "cell_type": "code",
   "execution_count": 76,
   "metadata": {},
   "outputs": [
    {
     "name": "stdout",
     "output_type": "stream",
     "text": [
      "TARGET\n",
      "0    282686\n",
      "1     24825\n",
      "Name: TARGET, dtype: int64\n",
      "\n",
      "----------\n",
      "NAME_CONTRACT_TYPE\n",
      "Cash loans         278232\n",
      "Revolving loans     29279\n",
      "Name: NAME_CONTRACT_TYPE, dtype: int64\n",
      "\n",
      "----------\n",
      "CODE_GENDER\n",
      "F      202448\n",
      "M      105059\n",
      "XNA         4\n",
      "Name: CODE_GENDER, dtype: int64\n",
      "\n",
      "----------\n",
      "FLAG_OWN_CAR\n",
      "N    202924\n",
      "Y    104587\n",
      "Name: FLAG_OWN_CAR, dtype: int64\n",
      "\n",
      "----------\n",
      "FLAG_OWN_REALTY\n",
      "Y    213312\n",
      "N     94199\n",
      "Name: FLAG_OWN_REALTY, dtype: int64\n",
      "\n",
      "----------\n",
      "NAME_TYPE_SUITE\n",
      "Unaccompanied      249818\n",
      "Family              40149\n",
      "Spouse, partner     11370\n",
      "Children             3267\n",
      "Other_B              1770\n",
      "Other_A               866\n",
      "Group of people       271\n",
      "Name: NAME_TYPE_SUITE, dtype: int64\n",
      "\n",
      "----------\n",
      "NAME_INCOME_TYPE\n",
      "Working                 158774\n",
      "Commercial associate     71617\n",
      "Pensioner                55362\n",
      "State servant            21703\n",
      "Unemployed                  22\n",
      "Student                     18\n",
      "Businessman                 10\n",
      "Maternity leave              5\n",
      "Name: NAME_INCOME_TYPE, dtype: int64\n",
      "\n",
      "----------\n",
      "NAME_EDUCATION_TYPE\n",
      "Secondary / secondary special    218391\n",
      "Higher education                  74863\n",
      "Incomplete higher                 10277\n",
      "Lower secondary                    3816\n",
      "Academic degree                     164\n",
      "Name: NAME_EDUCATION_TYPE, dtype: int64\n",
      "\n",
      "----------\n",
      "NAME_FAMILY_STATUS\n",
      "Married                 196432\n",
      "Single / not married     45444\n",
      "Civil marriage           29775\n",
      "Separated                19770\n",
      "Widow                    16088\n",
      "Unknown                      2\n",
      "Name: NAME_FAMILY_STATUS, dtype: int64\n",
      "\n",
      "----------\n",
      "NAME_HOUSING_TYPE\n",
      "House / apartment      272868\n",
      "With parents            14840\n",
      "Municipal apartment     11183\n",
      "Rented apartment         4881\n",
      "Office apartment         2617\n",
      "Co-op apartment          1122\n",
      "Name: NAME_HOUSING_TYPE, dtype: int64\n",
      "\n",
      "----------\n",
      "FLAG_MOBIL\n",
      "1    307510\n",
      "0         1\n",
      "Name: FLAG_MOBIL, dtype: int64\n",
      "\n",
      "----------\n",
      "FLAG_EMP_PHONE\n",
      "1    252125\n",
      "0     55386\n",
      "Name: FLAG_EMP_PHONE, dtype: int64\n",
      "\n",
      "----------\n",
      "FLAG_WORK_PHONE\n",
      "0    246203\n",
      "1     61308\n",
      "Name: FLAG_WORK_PHONE, dtype: int64\n",
      "\n",
      "----------\n",
      "FLAG_CONT_MOBILE\n",
      "1    306937\n",
      "0       574\n",
      "Name: FLAG_CONT_MOBILE, dtype: int64\n",
      "\n",
      "----------\n",
      "FLAG_PHONE\n",
      "0    221080\n",
      "1     86431\n",
      "Name: FLAG_PHONE, dtype: int64\n",
      "\n",
      "----------\n",
      "FLAG_EMAIL\n",
      "0    290069\n",
      "1     17442\n",
      "Name: FLAG_EMAIL, dtype: int64\n",
      "\n",
      "----------\n",
      "REGION_RATING_CLIENT\n",
      "2    226984\n",
      "3     48330\n",
      "1     32197\n",
      "Name: REGION_RATING_CLIENT, dtype: int64\n",
      "\n",
      "----------\n",
      "REGION_RATING_CLIENT_W_CITY\n",
      "2    229484\n",
      "3     43860\n",
      "1     34167\n",
      "Name: REGION_RATING_CLIENT_W_CITY, dtype: int64\n",
      "\n",
      "----------\n",
      "WEEKDAY_APPR_PROCESS_START\n",
      "TUESDAY      53901\n",
      "WEDNESDAY    51934\n",
      "MONDAY       50714\n",
      "THURSDAY     50591\n",
      "FRIDAY       50338\n",
      "SATURDAY     33852\n",
      "SUNDAY       16181\n",
      "Name: WEEKDAY_APPR_PROCESS_START, dtype: int64\n",
      "\n",
      "----------\n",
      "REG_REGION_NOT_LIVE_REGION\n",
      "0    302854\n",
      "1      4657\n",
      "Name: REG_REGION_NOT_LIVE_REGION, dtype: int64\n",
      "\n",
      "----------\n",
      "REG_REGION_NOT_WORK_REGION\n",
      "0    291899\n",
      "1     15612\n",
      "Name: REG_REGION_NOT_WORK_REGION, dtype: int64\n",
      "\n",
      "----------\n",
      "LIVE_REGION_NOT_WORK_REGION\n",
      "0    295008\n",
      "1     12503\n",
      "Name: LIVE_REGION_NOT_WORK_REGION, dtype: int64\n",
      "\n",
      "----------\n",
      "REG_CITY_NOT_LIVE_CITY\n",
      "0    283472\n",
      "1     24039\n",
      "Name: REG_CITY_NOT_LIVE_CITY, dtype: int64\n",
      "\n",
      "----------\n",
      "REG_CITY_NOT_WORK_CITY\n",
      "0    236644\n",
      "1     70867\n",
      "Name: REG_CITY_NOT_WORK_CITY, dtype: int64\n",
      "\n",
      "----------\n",
      "LIVE_CITY_NOT_WORK_CITY\n",
      "0    252296\n",
      "1     55215\n",
      "Name: LIVE_CITY_NOT_WORK_CITY, dtype: int64\n",
      "\n",
      "----------\n",
      "ORGANIZATION_TYPE\n",
      "Business Entity Type 3    67992\n",
      "XNA                       55374\n",
      "Self-employed             38412\n",
      "Other                     16683\n",
      "Medicine                  11193\n",
      "Business Entity Type 2    10553\n",
      "Government                10404\n",
      "School                     8893\n",
      "Trade: type 7              7831\n",
      "Kindergarten               6880\n",
      "Construction               6721\n",
      "Business Entity Type 1     5984\n",
      "Transport: type 4          5398\n",
      "Trade: type 3              3492\n",
      "Industry: type 9           3368\n",
      "Industry: type 3           3278\n",
      "Security                   3247\n",
      "Housing                    2958\n",
      "Industry: type 11          2704\n",
      "Military                   2634\n",
      "Bank                       2507\n",
      "Agriculture                2454\n",
      "Police                     2341\n",
      "Transport: type 2          2204\n",
      "Postal                     2157\n",
      "Security Ministries        1974\n",
      "Trade: type 2              1900\n",
      "Restaurant                 1811\n",
      "Services                   1575\n",
      "University                 1327\n",
      "Industry: type 7           1307\n",
      "Transport: type 3          1187\n",
      "Industry: type 1           1039\n",
      "Hotel                       966\n",
      "Electricity                 950\n",
      "Industry: type 4            877\n",
      "Trade: type 6               631\n",
      "Industry: type 5            599\n",
      "Insurance                   597\n",
      "Telecom                     577\n",
      "Emergency                   560\n",
      "Industry: type 2            458\n",
      "Advertising                 429\n",
      "Realtor                     396\n",
      "Culture                     379\n",
      "Industry: type 12           369\n",
      "Trade: type 1               348\n",
      "Mobile                      317\n",
      "Legal Services              305\n",
      "Cleaning                    260\n",
      "Transport: type 1           201\n",
      "Industry: type 6            112\n",
      "Industry: type 10           109\n",
      "Religion                     85\n",
      "Industry: type 13            67\n",
      "Trade: type 4                64\n",
      "Trade: type 5                49\n",
      "Industry: type 8             24\n",
      "Name: ORGANIZATION_TYPE, dtype: int64\n",
      "\n",
      "----------\n",
      "FLAG_DOCUMENT_2\n",
      "0    307498\n",
      "1        13\n",
      "Name: FLAG_DOCUMENT_2, dtype: int64\n",
      "\n",
      "----------\n",
      "FLAG_DOCUMENT_3\n",
      "1    218340\n",
      "0     89171\n",
      "Name: FLAG_DOCUMENT_3, dtype: int64\n",
      "\n",
      "----------\n",
      "FLAG_DOCUMENT_4\n",
      "0    307486\n",
      "1        25\n",
      "Name: FLAG_DOCUMENT_4, dtype: int64\n",
      "\n",
      "----------\n",
      "FLAG_DOCUMENT_5\n",
      "0    302863\n",
      "1      4648\n",
      "Name: FLAG_DOCUMENT_5, dtype: int64\n",
      "\n",
      "----------\n",
      "FLAG_DOCUMENT_6\n",
      "0    280433\n",
      "1     27078\n",
      "Name: FLAG_DOCUMENT_6, dtype: int64\n",
      "\n",
      "----------\n",
      "FLAG_DOCUMENT_7\n",
      "0    307452\n",
      "1        59\n",
      "Name: FLAG_DOCUMENT_7, dtype: int64\n",
      "\n",
      "----------\n",
      "FLAG_DOCUMENT_8\n",
      "0    282487\n",
      "1     25024\n",
      "Name: FLAG_DOCUMENT_8, dtype: int64\n",
      "\n",
      "----------\n",
      "FLAG_DOCUMENT_9\n",
      "0    306313\n",
      "1      1198\n",
      "Name: FLAG_DOCUMENT_9, dtype: int64\n",
      "\n",
      "----------\n",
      "FLAG_DOCUMENT_10\n",
      "0    307504\n",
      "1         7\n",
      "Name: FLAG_DOCUMENT_10, dtype: int64\n",
      "\n",
      "----------\n",
      "FLAG_DOCUMENT_11\n",
      "0    306308\n",
      "1      1203\n",
      "Name: FLAG_DOCUMENT_11, dtype: int64\n",
      "\n",
      "----------\n",
      "FLAG_DOCUMENT_12\n",
      "0    307509\n",
      "1         2\n",
      "Name: FLAG_DOCUMENT_12, dtype: int64\n",
      "\n",
      "----------\n",
      "FLAG_DOCUMENT_13\n",
      "0    306427\n",
      "1      1084\n",
      "Name: FLAG_DOCUMENT_13, dtype: int64\n",
      "\n",
      "----------\n",
      "FLAG_DOCUMENT_14\n",
      "0    306608\n",
      "1       903\n",
      "Name: FLAG_DOCUMENT_14, dtype: int64\n",
      "\n",
      "----------\n",
      "FLAG_DOCUMENT_15\n",
      "0    307139\n",
      "1       372\n",
      "Name: FLAG_DOCUMENT_15, dtype: int64\n",
      "\n",
      "----------\n",
      "FLAG_DOCUMENT_16\n",
      "0    304458\n",
      "1      3053\n",
      "Name: FLAG_DOCUMENT_16, dtype: int64\n",
      "\n",
      "----------\n",
      "FLAG_DOCUMENT_17\n",
      "0    307429\n",
      "1        82\n",
      "Name: FLAG_DOCUMENT_17, dtype: int64\n",
      "\n",
      "----------\n",
      "FLAG_DOCUMENT_18\n",
      "0    305011\n",
      "1      2500\n",
      "Name: FLAG_DOCUMENT_18, dtype: int64\n",
      "\n",
      "----------\n",
      "FLAG_DOCUMENT_19\n",
      "0    307328\n",
      "1       183\n",
      "Name: FLAG_DOCUMENT_19, dtype: int64\n",
      "\n",
      "----------\n",
      "FLAG_DOCUMENT_20\n",
      "0    307355\n",
      "1       156\n",
      "Name: FLAG_DOCUMENT_20, dtype: int64\n",
      "\n",
      "----------\n",
      "FLAG_DOCUMENT_21\n",
      "0    307408\n",
      "1       103\n",
      "Name: FLAG_DOCUMENT_21, dtype: int64\n",
      "\n",
      "----------\n"
     ]
    }
   ],
   "source": [
    "for i in list_cat:\n",
    "    print(i)\n",
    "    print(app_train[i].value_counts())\n",
    "    print(\"\\n----------\")"
   ]
  },
  {
   "cell_type": "code",
   "execution_count": 77,
   "metadata": {},
   "outputs": [
    {
     "data": {
      "text/plain": [
       "0"
      ]
     },
     "execution_count": 77,
     "metadata": {},
     "output_type": "execute_result"
    }
   ],
   "source": [
    "((app_train.isna().sum()) > 0).sum()"
   ]
  },
  {
   "cell_type": "code",
   "execution_count": 78,
   "metadata": {},
   "outputs": [],
   "source": [
    "# \"XNA\" in CODE_GENDER replace by NAN\n",
    "# \"Unknown\" in NAME_FAMILY_STATUS replace by NAN\n",
    "# \"XNA\" in ORGANIZATION_TYPE replace by \"Other\"\n",
    "\n",
    "app_train[\"CODE_GENDER\"].replace(\"XNA\", np.nan, inplace = True)\n",
    "app_train[\"NAME_FAMILY_STATUS\"].replace(\"Unknown\", np.nan, inplace = True)\n",
    "app_train[\"ORGANIZATION_TYPE\"].replace(\"XNA\", \"Other\", inplace = True)"
   ]
  },
  {
   "cell_type": "code",
   "execution_count": 79,
   "metadata": {},
   "outputs": [
    {
     "data": {
      "text/plain": [
       "2"
      ]
     },
     "execution_count": 79,
     "metadata": {},
     "output_type": "execute_result"
    }
   ],
   "source": [
    "((app_train.isna().sum()) > 0).sum()"
   ]
  },
  {
   "cell_type": "code",
   "execution_count": 80,
   "metadata": {
    "scrolled": true
   },
   "outputs": [
    {
     "data": {
      "text/plain": [
       "TARGET                         0\n",
       "NAME_CONTRACT_TYPE             0\n",
       "CODE_GENDER                    0\n",
       "FLAG_OWN_CAR                   0\n",
       "FLAG_OWN_REALTY                0\n",
       "NAME_TYPE_SUITE                0\n",
       "NAME_INCOME_TYPE               0\n",
       "NAME_EDUCATION_TYPE            0\n",
       "NAME_FAMILY_STATUS             0\n",
       "NAME_HOUSING_TYPE              0\n",
       "FLAG_MOBIL                     0\n",
       "FLAG_EMP_PHONE                 0\n",
       "FLAG_WORK_PHONE                0\n",
       "FLAG_CONT_MOBILE               0\n",
       "FLAG_PHONE                     0\n",
       "FLAG_EMAIL                     0\n",
       "REGION_RATING_CLIENT           0\n",
       "REGION_RATING_CLIENT_W_CITY    0\n",
       "WEEKDAY_APPR_PROCESS_START     0\n",
       "REG_REGION_NOT_LIVE_REGION     0\n",
       "REG_REGION_NOT_WORK_REGION     0\n",
       "LIVE_REGION_NOT_WORK_REGION    0\n",
       "REG_CITY_NOT_LIVE_CITY         0\n",
       "REG_CITY_NOT_WORK_CITY         0\n",
       "LIVE_CITY_NOT_WORK_CITY        0\n",
       "ORGANIZATION_TYPE              0\n",
       "FLAG_DOCUMENT_2                0\n",
       "FLAG_DOCUMENT_3                0\n",
       "FLAG_DOCUMENT_4                0\n",
       "FLAG_DOCUMENT_5                0\n",
       "FLAG_DOCUMENT_6                0\n",
       "FLAG_DOCUMENT_7                0\n",
       "FLAG_DOCUMENT_8                0\n",
       "FLAG_DOCUMENT_9                0\n",
       "FLAG_DOCUMENT_10               0\n",
       "FLAG_DOCUMENT_11               0\n",
       "FLAG_DOCUMENT_12               0\n",
       "FLAG_DOCUMENT_13               0\n",
       "FLAG_DOCUMENT_14               0\n",
       "FLAG_DOCUMENT_15               0\n",
       "FLAG_DOCUMENT_16               0\n",
       "FLAG_DOCUMENT_17               0\n",
       "FLAG_DOCUMENT_18               0\n",
       "FLAG_DOCUMENT_19               0\n",
       "FLAG_DOCUMENT_20               0\n",
       "FLAG_DOCUMENT_21               0\n",
       "dtype: int64"
      ]
     },
     "execution_count": 80,
     "metadata": {},
     "output_type": "execute_result"
    }
   ],
   "source": [
    "# Impute missing value in categorical data using \"mode\"\n",
    "app_train[\"CODE_GENDER\"] = app_train[\"CODE_GENDER\"].fillna(app_train[\"CODE_GENDER\"].mode()[0])\n",
    "app_train[\"NAME_FAMILY_STATUS\"] = app_train[\"NAME_FAMILY_STATUS\"].fillna(app_train[\"NAME_FAMILY_STATUS\"].mode()[0])\n",
    "app_train[list_cat].isna().sum()"
   ]
  },
  {
   "cell_type": "code",
   "execution_count": 81,
   "metadata": {},
   "outputs": [
    {
     "data": {
      "text/html": [
       "<div>\n",
       "<style scoped>\n",
       "    .dataframe tbody tr th:only-of-type {\n",
       "        vertical-align: middle;\n",
       "    }\n",
       "\n",
       "    .dataframe tbody tr th {\n",
       "        vertical-align: top;\n",
       "    }\n",
       "\n",
       "    .dataframe thead th {\n",
       "        text-align: right;\n",
       "    }\n",
       "</style>\n",
       "<table border=\"1\" class=\"dataframe\">\n",
       "  <thead>\n",
       "    <tr style=\"text-align: right;\">\n",
       "      <th></th>\n",
       "      <th>count</th>\n",
       "      <th>unique</th>\n",
       "      <th>top</th>\n",
       "      <th>freq</th>\n",
       "    </tr>\n",
       "  </thead>\n",
       "  <tbody>\n",
       "    <tr>\n",
       "      <th>TARGET</th>\n",
       "      <td>307511</td>\n",
       "      <td>2</td>\n",
       "      <td>0</td>\n",
       "      <td>282686</td>\n",
       "    </tr>\n",
       "    <tr>\n",
       "      <th>NAME_CONTRACT_TYPE</th>\n",
       "      <td>307511</td>\n",
       "      <td>2</td>\n",
       "      <td>Cash loans</td>\n",
       "      <td>278232</td>\n",
       "    </tr>\n",
       "    <tr>\n",
       "      <th>CODE_GENDER</th>\n",
       "      <td>307511</td>\n",
       "      <td>2</td>\n",
       "      <td>F</td>\n",
       "      <td>202452</td>\n",
       "    </tr>\n",
       "    <tr>\n",
       "      <th>FLAG_OWN_CAR</th>\n",
       "      <td>307511</td>\n",
       "      <td>2</td>\n",
       "      <td>N</td>\n",
       "      <td>202924</td>\n",
       "    </tr>\n",
       "    <tr>\n",
       "      <th>FLAG_OWN_REALTY</th>\n",
       "      <td>307511</td>\n",
       "      <td>2</td>\n",
       "      <td>Y</td>\n",
       "      <td>213312</td>\n",
       "    </tr>\n",
       "    <tr>\n",
       "      <th>NAME_TYPE_SUITE</th>\n",
       "      <td>307511</td>\n",
       "      <td>7</td>\n",
       "      <td>Unaccompanied</td>\n",
       "      <td>249818</td>\n",
       "    </tr>\n",
       "    <tr>\n",
       "      <th>NAME_INCOME_TYPE</th>\n",
       "      <td>307511</td>\n",
       "      <td>8</td>\n",
       "      <td>Working</td>\n",
       "      <td>158774</td>\n",
       "    </tr>\n",
       "    <tr>\n",
       "      <th>NAME_EDUCATION_TYPE</th>\n",
       "      <td>307511</td>\n",
       "      <td>5</td>\n",
       "      <td>Secondary / secondary special</td>\n",
       "      <td>218391</td>\n",
       "    </tr>\n",
       "    <tr>\n",
       "      <th>NAME_FAMILY_STATUS</th>\n",
       "      <td>307511</td>\n",
       "      <td>5</td>\n",
       "      <td>Married</td>\n",
       "      <td>196434</td>\n",
       "    </tr>\n",
       "    <tr>\n",
       "      <th>NAME_HOUSING_TYPE</th>\n",
       "      <td>307511</td>\n",
       "      <td>6</td>\n",
       "      <td>House / apartment</td>\n",
       "      <td>272868</td>\n",
       "    </tr>\n",
       "    <tr>\n",
       "      <th>FLAG_MOBIL</th>\n",
       "      <td>307511</td>\n",
       "      <td>2</td>\n",
       "      <td>1</td>\n",
       "      <td>307510</td>\n",
       "    </tr>\n",
       "    <tr>\n",
       "      <th>FLAG_EMP_PHONE</th>\n",
       "      <td>307511</td>\n",
       "      <td>2</td>\n",
       "      <td>1</td>\n",
       "      <td>252125</td>\n",
       "    </tr>\n",
       "    <tr>\n",
       "      <th>FLAG_WORK_PHONE</th>\n",
       "      <td>307511</td>\n",
       "      <td>2</td>\n",
       "      <td>0</td>\n",
       "      <td>246203</td>\n",
       "    </tr>\n",
       "    <tr>\n",
       "      <th>FLAG_CONT_MOBILE</th>\n",
       "      <td>307511</td>\n",
       "      <td>2</td>\n",
       "      <td>1</td>\n",
       "      <td>306937</td>\n",
       "    </tr>\n",
       "    <tr>\n",
       "      <th>FLAG_PHONE</th>\n",
       "      <td>307511</td>\n",
       "      <td>2</td>\n",
       "      <td>0</td>\n",
       "      <td>221080</td>\n",
       "    </tr>\n",
       "    <tr>\n",
       "      <th>FLAG_EMAIL</th>\n",
       "      <td>307511</td>\n",
       "      <td>2</td>\n",
       "      <td>0</td>\n",
       "      <td>290069</td>\n",
       "    </tr>\n",
       "    <tr>\n",
       "      <th>REGION_RATING_CLIENT</th>\n",
       "      <td>307511</td>\n",
       "      <td>3</td>\n",
       "      <td>2</td>\n",
       "      <td>226984</td>\n",
       "    </tr>\n",
       "    <tr>\n",
       "      <th>REGION_RATING_CLIENT_W_CITY</th>\n",
       "      <td>307511</td>\n",
       "      <td>3</td>\n",
       "      <td>2</td>\n",
       "      <td>229484</td>\n",
       "    </tr>\n",
       "    <tr>\n",
       "      <th>WEEKDAY_APPR_PROCESS_START</th>\n",
       "      <td>307511</td>\n",
       "      <td>7</td>\n",
       "      <td>TUESDAY</td>\n",
       "      <td>53901</td>\n",
       "    </tr>\n",
       "    <tr>\n",
       "      <th>REG_REGION_NOT_LIVE_REGION</th>\n",
       "      <td>307511</td>\n",
       "      <td>2</td>\n",
       "      <td>0</td>\n",
       "      <td>302854</td>\n",
       "    </tr>\n",
       "    <tr>\n",
       "      <th>REG_REGION_NOT_WORK_REGION</th>\n",
       "      <td>307511</td>\n",
       "      <td>2</td>\n",
       "      <td>0</td>\n",
       "      <td>291899</td>\n",
       "    </tr>\n",
       "    <tr>\n",
       "      <th>LIVE_REGION_NOT_WORK_REGION</th>\n",
       "      <td>307511</td>\n",
       "      <td>2</td>\n",
       "      <td>0</td>\n",
       "      <td>295008</td>\n",
       "    </tr>\n",
       "    <tr>\n",
       "      <th>REG_CITY_NOT_LIVE_CITY</th>\n",
       "      <td>307511</td>\n",
       "      <td>2</td>\n",
       "      <td>0</td>\n",
       "      <td>283472</td>\n",
       "    </tr>\n",
       "    <tr>\n",
       "      <th>REG_CITY_NOT_WORK_CITY</th>\n",
       "      <td>307511</td>\n",
       "      <td>2</td>\n",
       "      <td>0</td>\n",
       "      <td>236644</td>\n",
       "    </tr>\n",
       "    <tr>\n",
       "      <th>LIVE_CITY_NOT_WORK_CITY</th>\n",
       "      <td>307511</td>\n",
       "      <td>2</td>\n",
       "      <td>0</td>\n",
       "      <td>252296</td>\n",
       "    </tr>\n",
       "    <tr>\n",
       "      <th>ORGANIZATION_TYPE</th>\n",
       "      <td>307511</td>\n",
       "      <td>57</td>\n",
       "      <td>Other</td>\n",
       "      <td>72057</td>\n",
       "    </tr>\n",
       "    <tr>\n",
       "      <th>FLAG_DOCUMENT_2</th>\n",
       "      <td>307511</td>\n",
       "      <td>2</td>\n",
       "      <td>0</td>\n",
       "      <td>307498</td>\n",
       "    </tr>\n",
       "    <tr>\n",
       "      <th>FLAG_DOCUMENT_3</th>\n",
       "      <td>307511</td>\n",
       "      <td>2</td>\n",
       "      <td>1</td>\n",
       "      <td>218340</td>\n",
       "    </tr>\n",
       "    <tr>\n",
       "      <th>FLAG_DOCUMENT_4</th>\n",
       "      <td>307511</td>\n",
       "      <td>2</td>\n",
       "      <td>0</td>\n",
       "      <td>307486</td>\n",
       "    </tr>\n",
       "    <tr>\n",
       "      <th>FLAG_DOCUMENT_5</th>\n",
       "      <td>307511</td>\n",
       "      <td>2</td>\n",
       "      <td>0</td>\n",
       "      <td>302863</td>\n",
       "    </tr>\n",
       "    <tr>\n",
       "      <th>FLAG_DOCUMENT_6</th>\n",
       "      <td>307511</td>\n",
       "      <td>2</td>\n",
       "      <td>0</td>\n",
       "      <td>280433</td>\n",
       "    </tr>\n",
       "    <tr>\n",
       "      <th>FLAG_DOCUMENT_7</th>\n",
       "      <td>307511</td>\n",
       "      <td>2</td>\n",
       "      <td>0</td>\n",
       "      <td>307452</td>\n",
       "    </tr>\n",
       "    <tr>\n",
       "      <th>FLAG_DOCUMENT_8</th>\n",
       "      <td>307511</td>\n",
       "      <td>2</td>\n",
       "      <td>0</td>\n",
       "      <td>282487</td>\n",
       "    </tr>\n",
       "    <tr>\n",
       "      <th>FLAG_DOCUMENT_9</th>\n",
       "      <td>307511</td>\n",
       "      <td>2</td>\n",
       "      <td>0</td>\n",
       "      <td>306313</td>\n",
       "    </tr>\n",
       "    <tr>\n",
       "      <th>FLAG_DOCUMENT_10</th>\n",
       "      <td>307511</td>\n",
       "      <td>2</td>\n",
       "      <td>0</td>\n",
       "      <td>307504</td>\n",
       "    </tr>\n",
       "    <tr>\n",
       "      <th>FLAG_DOCUMENT_11</th>\n",
       "      <td>307511</td>\n",
       "      <td>2</td>\n",
       "      <td>0</td>\n",
       "      <td>306308</td>\n",
       "    </tr>\n",
       "    <tr>\n",
       "      <th>FLAG_DOCUMENT_12</th>\n",
       "      <td>307511</td>\n",
       "      <td>2</td>\n",
       "      <td>0</td>\n",
       "      <td>307509</td>\n",
       "    </tr>\n",
       "    <tr>\n",
       "      <th>FLAG_DOCUMENT_13</th>\n",
       "      <td>307511</td>\n",
       "      <td>2</td>\n",
       "      <td>0</td>\n",
       "      <td>306427</td>\n",
       "    </tr>\n",
       "    <tr>\n",
       "      <th>FLAG_DOCUMENT_14</th>\n",
       "      <td>307511</td>\n",
       "      <td>2</td>\n",
       "      <td>0</td>\n",
       "      <td>306608</td>\n",
       "    </tr>\n",
       "    <tr>\n",
       "      <th>FLAG_DOCUMENT_15</th>\n",
       "      <td>307511</td>\n",
       "      <td>2</td>\n",
       "      <td>0</td>\n",
       "      <td>307139</td>\n",
       "    </tr>\n",
       "    <tr>\n",
       "      <th>FLAG_DOCUMENT_16</th>\n",
       "      <td>307511</td>\n",
       "      <td>2</td>\n",
       "      <td>0</td>\n",
       "      <td>304458</td>\n",
       "    </tr>\n",
       "    <tr>\n",
       "      <th>FLAG_DOCUMENT_17</th>\n",
       "      <td>307511</td>\n",
       "      <td>2</td>\n",
       "      <td>0</td>\n",
       "      <td>307429</td>\n",
       "    </tr>\n",
       "    <tr>\n",
       "      <th>FLAG_DOCUMENT_18</th>\n",
       "      <td>307511</td>\n",
       "      <td>2</td>\n",
       "      <td>0</td>\n",
       "      <td>305011</td>\n",
       "    </tr>\n",
       "    <tr>\n",
       "      <th>FLAG_DOCUMENT_19</th>\n",
       "      <td>307511</td>\n",
       "      <td>2</td>\n",
       "      <td>0</td>\n",
       "      <td>307328</td>\n",
       "    </tr>\n",
       "    <tr>\n",
       "      <th>FLAG_DOCUMENT_20</th>\n",
       "      <td>307511</td>\n",
       "      <td>2</td>\n",
       "      <td>0</td>\n",
       "      <td>307355</td>\n",
       "    </tr>\n",
       "    <tr>\n",
       "      <th>FLAG_DOCUMENT_21</th>\n",
       "      <td>307511</td>\n",
       "      <td>2</td>\n",
       "      <td>0</td>\n",
       "      <td>307408</td>\n",
       "    </tr>\n",
       "  </tbody>\n",
       "</table>\n",
       "</div>"
      ],
      "text/plain": [
       "                              count unique                            top  \\\n",
       "TARGET                       307511      2                              0   \n",
       "NAME_CONTRACT_TYPE           307511      2                     Cash loans   \n",
       "CODE_GENDER                  307511      2                              F   \n",
       "FLAG_OWN_CAR                 307511      2                              N   \n",
       "FLAG_OWN_REALTY              307511      2                              Y   \n",
       "NAME_TYPE_SUITE              307511      7                  Unaccompanied   \n",
       "NAME_INCOME_TYPE             307511      8                        Working   \n",
       "NAME_EDUCATION_TYPE          307511      5  Secondary / secondary special   \n",
       "NAME_FAMILY_STATUS           307511      5                        Married   \n",
       "NAME_HOUSING_TYPE            307511      6              House / apartment   \n",
       "FLAG_MOBIL                   307511      2                              1   \n",
       "FLAG_EMP_PHONE               307511      2                              1   \n",
       "FLAG_WORK_PHONE              307511      2                              0   \n",
       "FLAG_CONT_MOBILE             307511      2                              1   \n",
       "FLAG_PHONE                   307511      2                              0   \n",
       "FLAG_EMAIL                   307511      2                              0   \n",
       "REGION_RATING_CLIENT         307511      3                              2   \n",
       "REGION_RATING_CLIENT_W_CITY  307511      3                              2   \n",
       "WEEKDAY_APPR_PROCESS_START   307511      7                        TUESDAY   \n",
       "REG_REGION_NOT_LIVE_REGION   307511      2                              0   \n",
       "REG_REGION_NOT_WORK_REGION   307511      2                              0   \n",
       "LIVE_REGION_NOT_WORK_REGION  307511      2                              0   \n",
       "REG_CITY_NOT_LIVE_CITY       307511      2                              0   \n",
       "REG_CITY_NOT_WORK_CITY       307511      2                              0   \n",
       "LIVE_CITY_NOT_WORK_CITY      307511      2                              0   \n",
       "ORGANIZATION_TYPE            307511     57                          Other   \n",
       "FLAG_DOCUMENT_2              307511      2                              0   \n",
       "FLAG_DOCUMENT_3              307511      2                              1   \n",
       "FLAG_DOCUMENT_4              307511      2                              0   \n",
       "FLAG_DOCUMENT_5              307511      2                              0   \n",
       "FLAG_DOCUMENT_6              307511      2                              0   \n",
       "FLAG_DOCUMENT_7              307511      2                              0   \n",
       "FLAG_DOCUMENT_8              307511      2                              0   \n",
       "FLAG_DOCUMENT_9              307511      2                              0   \n",
       "FLAG_DOCUMENT_10             307511      2                              0   \n",
       "FLAG_DOCUMENT_11             307511      2                              0   \n",
       "FLAG_DOCUMENT_12             307511      2                              0   \n",
       "FLAG_DOCUMENT_13             307511      2                              0   \n",
       "FLAG_DOCUMENT_14             307511      2                              0   \n",
       "FLAG_DOCUMENT_15             307511      2                              0   \n",
       "FLAG_DOCUMENT_16             307511      2                              0   \n",
       "FLAG_DOCUMENT_17             307511      2                              0   \n",
       "FLAG_DOCUMENT_18             307511      2                              0   \n",
       "FLAG_DOCUMENT_19             307511      2                              0   \n",
       "FLAG_DOCUMENT_20             307511      2                              0   \n",
       "FLAG_DOCUMENT_21             307511      2                              0   \n",
       "\n",
       "                               freq  \n",
       "TARGET                       282686  \n",
       "NAME_CONTRACT_TYPE           278232  \n",
       "CODE_GENDER                  202452  \n",
       "FLAG_OWN_CAR                 202924  \n",
       "FLAG_OWN_REALTY              213312  \n",
       "NAME_TYPE_SUITE              249818  \n",
       "NAME_INCOME_TYPE             158774  \n",
       "NAME_EDUCATION_TYPE          218391  \n",
       "NAME_FAMILY_STATUS           196434  \n",
       "NAME_HOUSING_TYPE            272868  \n",
       "FLAG_MOBIL                   307510  \n",
       "FLAG_EMP_PHONE               252125  \n",
       "FLAG_WORK_PHONE              246203  \n",
       "FLAG_CONT_MOBILE             306937  \n",
       "FLAG_PHONE                   221080  \n",
       "FLAG_EMAIL                   290069  \n",
       "REGION_RATING_CLIENT         226984  \n",
       "REGION_RATING_CLIENT_W_CITY  229484  \n",
       "WEEKDAY_APPR_PROCESS_START    53901  \n",
       "REG_REGION_NOT_LIVE_REGION   302854  \n",
       "REG_REGION_NOT_WORK_REGION   291899  \n",
       "LIVE_REGION_NOT_WORK_REGION  295008  \n",
       "REG_CITY_NOT_LIVE_CITY       283472  \n",
       "REG_CITY_NOT_WORK_CITY       236644  \n",
       "LIVE_CITY_NOT_WORK_CITY      252296  \n",
       "ORGANIZATION_TYPE             72057  \n",
       "FLAG_DOCUMENT_2              307498  \n",
       "FLAG_DOCUMENT_3              218340  \n",
       "FLAG_DOCUMENT_4              307486  \n",
       "FLAG_DOCUMENT_5              302863  \n",
       "FLAG_DOCUMENT_6              280433  \n",
       "FLAG_DOCUMENT_7              307452  \n",
       "FLAG_DOCUMENT_8              282487  \n",
       "FLAG_DOCUMENT_9              306313  \n",
       "FLAG_DOCUMENT_10             307504  \n",
       "FLAG_DOCUMENT_11             306308  \n",
       "FLAG_DOCUMENT_12             307509  \n",
       "FLAG_DOCUMENT_13             306427  \n",
       "FLAG_DOCUMENT_14             306608  \n",
       "FLAG_DOCUMENT_15             307139  \n",
       "FLAG_DOCUMENT_16             304458  \n",
       "FLAG_DOCUMENT_17             307429  \n",
       "FLAG_DOCUMENT_18             305011  \n",
       "FLAG_DOCUMENT_19             307328  \n",
       "FLAG_DOCUMENT_20             307355  \n",
       "FLAG_DOCUMENT_21             307408  "
      ]
     },
     "execution_count": 81,
     "metadata": {},
     "output_type": "execute_result"
    }
   ],
   "source": [
    "app_train[list_cat].describe().T"
   ]
  },
  {
   "cell_type": "code",
   "execution_count": 82,
   "metadata": {},
   "outputs": [],
   "source": [
    "# NUMERICAL DATA"
   ]
  },
  {
   "cell_type": "code",
   "execution_count": 83,
   "metadata": {},
   "outputs": [
    {
     "data": {
      "text/html": [
       "<div>\n",
       "<style scoped>\n",
       "    .dataframe tbody tr th:only-of-type {\n",
       "        vertical-align: middle;\n",
       "    }\n",
       "\n",
       "    .dataframe tbody tr th {\n",
       "        vertical-align: top;\n",
       "    }\n",
       "\n",
       "    .dataframe thead th {\n",
       "        text-align: right;\n",
       "    }\n",
       "</style>\n",
       "<table border=\"1\" class=\"dataframe\">\n",
       "  <thead>\n",
       "    <tr style=\"text-align: right;\">\n",
       "      <th></th>\n",
       "      <th>count</th>\n",
       "      <th>mean</th>\n",
       "      <th>std</th>\n",
       "      <th>min</th>\n",
       "      <th>25%</th>\n",
       "      <th>50%</th>\n",
       "      <th>75%</th>\n",
       "      <th>max</th>\n",
       "    </tr>\n",
       "  </thead>\n",
       "  <tbody>\n",
       "    <tr>\n",
       "      <th>SK_ID_CURR</th>\n",
       "      <td>307511.0</td>\n",
       "      <td>278180.52</td>\n",
       "      <td>102790.18</td>\n",
       "      <td>100002.0</td>\n",
       "      <td>189145.50</td>\n",
       "      <td>278202.00</td>\n",
       "      <td>367142.50</td>\n",
       "      <td>4.562550e+05</td>\n",
       "    </tr>\n",
       "    <tr>\n",
       "      <th>CNT_CHILDREN</th>\n",
       "      <td>307511.0</td>\n",
       "      <td>0.42</td>\n",
       "      <td>0.72</td>\n",
       "      <td>0.0</td>\n",
       "      <td>0.00</td>\n",
       "      <td>0.00</td>\n",
       "      <td>1.00</td>\n",
       "      <td>1.900000e+01</td>\n",
       "    </tr>\n",
       "    <tr>\n",
       "      <th>AMT_INCOME_TOTAL</th>\n",
       "      <td>307511.0</td>\n",
       "      <td>168797.92</td>\n",
       "      <td>237123.15</td>\n",
       "      <td>25650.0</td>\n",
       "      <td>112500.00</td>\n",
       "      <td>147150.00</td>\n",
       "      <td>202500.00</td>\n",
       "      <td>1.170000e+08</td>\n",
       "    </tr>\n",
       "    <tr>\n",
       "      <th>AMT_CREDIT</th>\n",
       "      <td>307511.0</td>\n",
       "      <td>599026.00</td>\n",
       "      <td>402490.78</td>\n",
       "      <td>45000.0</td>\n",
       "      <td>270000.00</td>\n",
       "      <td>513531.00</td>\n",
       "      <td>808650.00</td>\n",
       "      <td>4.050000e+06</td>\n",
       "    </tr>\n",
       "    <tr>\n",
       "      <th>AMT_ANNUITY</th>\n",
       "      <td>307511.0</td>\n",
       "      <td>27108.57</td>\n",
       "      <td>14493.45</td>\n",
       "      <td>1615.5</td>\n",
       "      <td>16524.00</td>\n",
       "      <td>24903.00</td>\n",
       "      <td>34596.00</td>\n",
       "      <td>2.580255e+05</td>\n",
       "    </tr>\n",
       "    <tr>\n",
       "      <th>AMT_GOODS_PRICE</th>\n",
       "      <td>307511.0</td>\n",
       "      <td>538396.21</td>\n",
       "      <td>369279.43</td>\n",
       "      <td>40500.0</td>\n",
       "      <td>238500.00</td>\n",
       "      <td>450000.00</td>\n",
       "      <td>679500.00</td>\n",
       "      <td>4.050000e+06</td>\n",
       "    </tr>\n",
       "    <tr>\n",
       "      <th>REGION_POPULATION_RELATIVE</th>\n",
       "      <td>307511.0</td>\n",
       "      <td>0.02</td>\n",
       "      <td>0.01</td>\n",
       "      <td>0.0</td>\n",
       "      <td>0.01</td>\n",
       "      <td>0.02</td>\n",
       "      <td>0.03</td>\n",
       "      <td>7.000000e-02</td>\n",
       "    </tr>\n",
       "    <tr>\n",
       "      <th>DAYS_BIRTH</th>\n",
       "      <td>307511.0</td>\n",
       "      <td>-16037.00</td>\n",
       "      <td>4363.99</td>\n",
       "      <td>-25229.0</td>\n",
       "      <td>-19682.00</td>\n",
       "      <td>-15750.00</td>\n",
       "      <td>-12413.00</td>\n",
       "      <td>-7.489000e+03</td>\n",
       "    </tr>\n",
       "    <tr>\n",
       "      <th>DAYS_EMPLOYED</th>\n",
       "      <td>307511.0</td>\n",
       "      <td>63815.05</td>\n",
       "      <td>141275.77</td>\n",
       "      <td>-17912.0</td>\n",
       "      <td>-2760.00</td>\n",
       "      <td>-1213.00</td>\n",
       "      <td>-289.00</td>\n",
       "      <td>3.652430e+05</td>\n",
       "    </tr>\n",
       "    <tr>\n",
       "      <th>DAYS_REGISTRATION</th>\n",
       "      <td>307511.0</td>\n",
       "      <td>-4986.12</td>\n",
       "      <td>3522.89</td>\n",
       "      <td>-24672.0</td>\n",
       "      <td>-7479.50</td>\n",
       "      <td>-4504.00</td>\n",
       "      <td>-2010.00</td>\n",
       "      <td>0.000000e+00</td>\n",
       "    </tr>\n",
       "    <tr>\n",
       "      <th>DAYS_ID_PUBLISH</th>\n",
       "      <td>307511.0</td>\n",
       "      <td>-2994.20</td>\n",
       "      <td>1509.45</td>\n",
       "      <td>-7197.0</td>\n",
       "      <td>-4299.00</td>\n",
       "      <td>-3254.00</td>\n",
       "      <td>-1720.00</td>\n",
       "      <td>0.000000e+00</td>\n",
       "    </tr>\n",
       "    <tr>\n",
       "      <th>CNT_FAM_MEMBERS</th>\n",
       "      <td>307511.0</td>\n",
       "      <td>2.15</td>\n",
       "      <td>0.91</td>\n",
       "      <td>1.0</td>\n",
       "      <td>2.00</td>\n",
       "      <td>2.00</td>\n",
       "      <td>3.00</td>\n",
       "      <td>2.000000e+01</td>\n",
       "    </tr>\n",
       "    <tr>\n",
       "      <th>HOUR_APPR_PROCESS_START</th>\n",
       "      <td>307511.0</td>\n",
       "      <td>12.06</td>\n",
       "      <td>3.27</td>\n",
       "      <td>0.0</td>\n",
       "      <td>10.00</td>\n",
       "      <td>12.00</td>\n",
       "      <td>14.00</td>\n",
       "      <td>2.300000e+01</td>\n",
       "    </tr>\n",
       "    <tr>\n",
       "      <th>EXT_SOURCE_2</th>\n",
       "      <td>307511.0</td>\n",
       "      <td>0.51</td>\n",
       "      <td>0.19</td>\n",
       "      <td>0.0</td>\n",
       "      <td>0.39</td>\n",
       "      <td>0.57</td>\n",
       "      <td>0.66</td>\n",
       "      <td>8.500000e-01</td>\n",
       "    </tr>\n",
       "    <tr>\n",
       "      <th>EXT_SOURCE_3</th>\n",
       "      <td>307511.0</td>\n",
       "      <td>0.51</td>\n",
       "      <td>0.17</td>\n",
       "      <td>0.0</td>\n",
       "      <td>0.42</td>\n",
       "      <td>0.51</td>\n",
       "      <td>0.64</td>\n",
       "      <td>9.000000e-01</td>\n",
       "    </tr>\n",
       "    <tr>\n",
       "      <th>OBS_30_CNT_SOCIAL_CIRCLE</th>\n",
       "      <td>307511.0</td>\n",
       "      <td>1.42</td>\n",
       "      <td>2.40</td>\n",
       "      <td>0.0</td>\n",
       "      <td>0.00</td>\n",
       "      <td>0.00</td>\n",
       "      <td>2.00</td>\n",
       "      <td>3.480000e+02</td>\n",
       "    </tr>\n",
       "    <tr>\n",
       "      <th>DEF_30_CNT_SOCIAL_CIRCLE</th>\n",
       "      <td>307511.0</td>\n",
       "      <td>0.14</td>\n",
       "      <td>0.45</td>\n",
       "      <td>0.0</td>\n",
       "      <td>0.00</td>\n",
       "      <td>0.00</td>\n",
       "      <td>0.00</td>\n",
       "      <td>3.400000e+01</td>\n",
       "    </tr>\n",
       "    <tr>\n",
       "      <th>OBS_60_CNT_SOCIAL_CIRCLE</th>\n",
       "      <td>307511.0</td>\n",
       "      <td>1.41</td>\n",
       "      <td>2.38</td>\n",
       "      <td>0.0</td>\n",
       "      <td>0.00</td>\n",
       "      <td>0.00</td>\n",
       "      <td>2.00</td>\n",
       "      <td>3.440000e+02</td>\n",
       "    </tr>\n",
       "    <tr>\n",
       "      <th>DEF_60_CNT_SOCIAL_CIRCLE</th>\n",
       "      <td>307511.0</td>\n",
       "      <td>0.10</td>\n",
       "      <td>0.36</td>\n",
       "      <td>0.0</td>\n",
       "      <td>0.00</td>\n",
       "      <td>0.00</td>\n",
       "      <td>0.00</td>\n",
       "      <td>2.400000e+01</td>\n",
       "    </tr>\n",
       "    <tr>\n",
       "      <th>DAYS_LAST_PHONE_CHANGE</th>\n",
       "      <td>307511.0</td>\n",
       "      <td>-962.86</td>\n",
       "      <td>826.81</td>\n",
       "      <td>-4292.0</td>\n",
       "      <td>-1570.00</td>\n",
       "      <td>-757.00</td>\n",
       "      <td>-274.00</td>\n",
       "      <td>0.000000e+00</td>\n",
       "    </tr>\n",
       "    <tr>\n",
       "      <th>AMT_REQ_CREDIT_BUREAU_HOUR</th>\n",
       "      <td>307511.0</td>\n",
       "      <td>0.01</td>\n",
       "      <td>0.08</td>\n",
       "      <td>0.0</td>\n",
       "      <td>0.00</td>\n",
       "      <td>0.00</td>\n",
       "      <td>0.00</td>\n",
       "      <td>4.000000e+00</td>\n",
       "    </tr>\n",
       "    <tr>\n",
       "      <th>AMT_REQ_CREDIT_BUREAU_DAY</th>\n",
       "      <td>307511.0</td>\n",
       "      <td>0.01</td>\n",
       "      <td>0.10</td>\n",
       "      <td>0.0</td>\n",
       "      <td>0.00</td>\n",
       "      <td>0.00</td>\n",
       "      <td>0.00</td>\n",
       "      <td>9.000000e+00</td>\n",
       "    </tr>\n",
       "    <tr>\n",
       "      <th>AMT_REQ_CREDIT_BUREAU_WEEK</th>\n",
       "      <td>307511.0</td>\n",
       "      <td>0.03</td>\n",
       "      <td>0.19</td>\n",
       "      <td>0.0</td>\n",
       "      <td>0.00</td>\n",
       "      <td>0.00</td>\n",
       "      <td>0.00</td>\n",
       "      <td>8.000000e+00</td>\n",
       "    </tr>\n",
       "    <tr>\n",
       "      <th>AMT_REQ_CREDIT_BUREAU_MON</th>\n",
       "      <td>307511.0</td>\n",
       "      <td>0.27</td>\n",
       "      <td>0.85</td>\n",
       "      <td>0.0</td>\n",
       "      <td>0.00</td>\n",
       "      <td>0.00</td>\n",
       "      <td>0.27</td>\n",
       "      <td>2.700000e+01</td>\n",
       "    </tr>\n",
       "    <tr>\n",
       "      <th>AMT_REQ_CREDIT_BUREAU_QRT</th>\n",
       "      <td>307511.0</td>\n",
       "      <td>0.27</td>\n",
       "      <td>0.74</td>\n",
       "      <td>0.0</td>\n",
       "      <td>0.00</td>\n",
       "      <td>0.00</td>\n",
       "      <td>0.27</td>\n",
       "      <td>2.610000e+02</td>\n",
       "    </tr>\n",
       "    <tr>\n",
       "      <th>AMT_REQ_CREDIT_BUREAU_YEAR</th>\n",
       "      <td>307511.0</td>\n",
       "      <td>1.90</td>\n",
       "      <td>1.74</td>\n",
       "      <td>0.0</td>\n",
       "      <td>1.00</td>\n",
       "      <td>1.90</td>\n",
       "      <td>3.00</td>\n",
       "      <td>2.500000e+01</td>\n",
       "    </tr>\n",
       "  </tbody>\n",
       "</table>\n",
       "</div>"
      ],
      "text/plain": [
       "                               count       mean        std       min  \\\n",
       "SK_ID_CURR                  307511.0  278180.52  102790.18  100002.0   \n",
       "CNT_CHILDREN                307511.0       0.42       0.72       0.0   \n",
       "AMT_INCOME_TOTAL            307511.0  168797.92  237123.15   25650.0   \n",
       "AMT_CREDIT                  307511.0  599026.00  402490.78   45000.0   \n",
       "AMT_ANNUITY                 307511.0   27108.57   14493.45    1615.5   \n",
       "AMT_GOODS_PRICE             307511.0  538396.21  369279.43   40500.0   \n",
       "REGION_POPULATION_RELATIVE  307511.0       0.02       0.01       0.0   \n",
       "DAYS_BIRTH                  307511.0  -16037.00    4363.99  -25229.0   \n",
       "DAYS_EMPLOYED               307511.0   63815.05  141275.77  -17912.0   \n",
       "DAYS_REGISTRATION           307511.0   -4986.12    3522.89  -24672.0   \n",
       "DAYS_ID_PUBLISH             307511.0   -2994.20    1509.45   -7197.0   \n",
       "CNT_FAM_MEMBERS             307511.0       2.15       0.91       1.0   \n",
       "HOUR_APPR_PROCESS_START     307511.0      12.06       3.27       0.0   \n",
       "EXT_SOURCE_2                307511.0       0.51       0.19       0.0   \n",
       "EXT_SOURCE_3                307511.0       0.51       0.17       0.0   \n",
       "OBS_30_CNT_SOCIAL_CIRCLE    307511.0       1.42       2.40       0.0   \n",
       "DEF_30_CNT_SOCIAL_CIRCLE    307511.0       0.14       0.45       0.0   \n",
       "OBS_60_CNT_SOCIAL_CIRCLE    307511.0       1.41       2.38       0.0   \n",
       "DEF_60_CNT_SOCIAL_CIRCLE    307511.0       0.10       0.36       0.0   \n",
       "DAYS_LAST_PHONE_CHANGE      307511.0    -962.86     826.81   -4292.0   \n",
       "AMT_REQ_CREDIT_BUREAU_HOUR  307511.0       0.01       0.08       0.0   \n",
       "AMT_REQ_CREDIT_BUREAU_DAY   307511.0       0.01       0.10       0.0   \n",
       "AMT_REQ_CREDIT_BUREAU_WEEK  307511.0       0.03       0.19       0.0   \n",
       "AMT_REQ_CREDIT_BUREAU_MON   307511.0       0.27       0.85       0.0   \n",
       "AMT_REQ_CREDIT_BUREAU_QRT   307511.0       0.27       0.74       0.0   \n",
       "AMT_REQ_CREDIT_BUREAU_YEAR  307511.0       1.90       1.74       0.0   \n",
       "\n",
       "                                  25%        50%        75%           max  \n",
       "SK_ID_CURR                  189145.50  278202.00  367142.50  4.562550e+05  \n",
       "CNT_CHILDREN                     0.00       0.00       1.00  1.900000e+01  \n",
       "AMT_INCOME_TOTAL            112500.00  147150.00  202500.00  1.170000e+08  \n",
       "AMT_CREDIT                  270000.00  513531.00  808650.00  4.050000e+06  \n",
       "AMT_ANNUITY                  16524.00   24903.00   34596.00  2.580255e+05  \n",
       "AMT_GOODS_PRICE             238500.00  450000.00  679500.00  4.050000e+06  \n",
       "REGION_POPULATION_RELATIVE       0.01       0.02       0.03  7.000000e-02  \n",
       "DAYS_BIRTH                  -19682.00  -15750.00  -12413.00 -7.489000e+03  \n",
       "DAYS_EMPLOYED                -2760.00   -1213.00    -289.00  3.652430e+05  \n",
       "DAYS_REGISTRATION            -7479.50   -4504.00   -2010.00  0.000000e+00  \n",
       "DAYS_ID_PUBLISH              -4299.00   -3254.00   -1720.00  0.000000e+00  \n",
       "CNT_FAM_MEMBERS                  2.00       2.00       3.00  2.000000e+01  \n",
       "HOUR_APPR_PROCESS_START         10.00      12.00      14.00  2.300000e+01  \n",
       "EXT_SOURCE_2                     0.39       0.57       0.66  8.500000e-01  \n",
       "EXT_SOURCE_3                     0.42       0.51       0.64  9.000000e-01  \n",
       "OBS_30_CNT_SOCIAL_CIRCLE         0.00       0.00       2.00  3.480000e+02  \n",
       "DEF_30_CNT_SOCIAL_CIRCLE         0.00       0.00       0.00  3.400000e+01  \n",
       "OBS_60_CNT_SOCIAL_CIRCLE         0.00       0.00       2.00  3.440000e+02  \n",
       "DEF_60_CNT_SOCIAL_CIRCLE         0.00       0.00       0.00  2.400000e+01  \n",
       "DAYS_LAST_PHONE_CHANGE       -1570.00    -757.00    -274.00  0.000000e+00  \n",
       "AMT_REQ_CREDIT_BUREAU_HOUR       0.00       0.00       0.00  4.000000e+00  \n",
       "AMT_REQ_CREDIT_BUREAU_DAY        0.00       0.00       0.00  9.000000e+00  \n",
       "AMT_REQ_CREDIT_BUREAU_WEEK       0.00       0.00       0.00  8.000000e+00  \n",
       "AMT_REQ_CREDIT_BUREAU_MON        0.00       0.00       0.27  2.700000e+01  \n",
       "AMT_REQ_CREDIT_BUREAU_QRT        0.00       0.00       0.27  2.610000e+02  \n",
       "AMT_REQ_CREDIT_BUREAU_YEAR       1.00       1.90       3.00  2.500000e+01  "
      ]
     },
     "execution_count": 83,
     "metadata": {},
     "output_type": "execute_result"
    }
   ],
   "source": [
    "app_train[list_num].describe().round(2).T"
   ]
  },
  {
   "cell_type": "code",
   "execution_count": 84,
   "metadata": {},
   "outputs": [
    {
     "data": {
      "text/plain": [
       "(307511, 72)"
      ]
     },
     "execution_count": 84,
     "metadata": {},
     "output_type": "execute_result"
    }
   ],
   "source": [
    "app_train.shape"
   ]
  },
  {
   "cell_type": "code",
   "execution_count": 85,
   "metadata": {},
   "outputs": [
    {
     "data": {
      "text/plain": [
       "0"
      ]
     },
     "execution_count": 85,
     "metadata": {},
     "output_type": "execute_result"
    }
   ],
   "source": [
    "app_train.columns.duplicated().sum()"
   ]
  },
  {
   "cell_type": "markdown",
   "metadata": {},
   "source": [
    "### 3. Feature Selection"
   ]
  },
  {
   "cell_type": "code",
   "execution_count": 86,
   "metadata": {},
   "outputs": [],
   "source": [
    "# CORRELATION\n",
    "# Numerical & Categorical -> ANOVA\n",
    "# Categorical & Categorical -> Chi Square"
   ]
  },
  {
   "cell_type": "code",
   "execution_count": 87,
   "metadata": {},
   "outputs": [],
   "source": [
    "from scipy.stats import f_oneway, chi2_contingency"
   ]
  },
  {
   "cell_type": "markdown",
   "metadata": {},
   "source": [
    "#### 3a. ANOVA"
   ]
  },
  {
   "cell_type": "code",
   "execution_count": 88,
   "metadata": {},
   "outputs": [
    {
     "name": "stdout",
     "output_type": "stream",
     "text": [
      "P-value of Anova: 1.9224915500910093e-26\n"
     ]
    }
   ],
   "source": [
    "# Assumption (H0) is between 2 variables are NOT correlated\n",
    "# Reject H0 if p-value < 0.05 (Reject = correlated)\n",
    "\n",
    "category_group = app_train.groupby(\"TARGET\")[\"CNT_CHILDREN\"].apply(list)\n",
    "anova_result = f_oneway(*category_group)\n",
    "print(\"P-value of Anova:\", anova_result[1])"
   ]
  },
  {
   "cell_type": "code",
   "execution_count": 89,
   "metadata": {},
   "outputs": [],
   "source": [
    "dict_anova = {}\n",
    "for i in list_num:\n",
    "    category_group = app_train.groupby(\"TARGET\")[i].apply(list)\n",
    "    pvalue_anova = f_oneway(*category_group)[1]\n",
    "    dict_anova[i] = pvalue_anova"
   ]
  },
  {
   "cell_type": "code",
   "execution_count": 90,
   "metadata": {},
   "outputs": [
    {
     "data": {
      "text/plain": [
       "{'SK_ID_CURR': 0.24231496893115526,\n",
       " 'CNT_CHILDREN': 1.9224915500910093e-26,\n",
       " 'AMT_INCOME_TOTAL': 0.02723796087829524,\n",
       " 'AMT_CREDIT': 1.1474602724260586e-63,\n",
       " 'AMT_ANNUITY': 1.1815936484710046e-12,\n",
       " 'AMT_GOODS_PRICE': 4.1013948936918764e-107,\n",
       " 'REGION_POPULATION_RELATIVE': 9.582701564553064e-95,\n",
       " 'DAYS_BIRTH': 0.0,\n",
       " 'DAYS_EMPLOYED': 3.6311730827265075e-137,\n",
       " 'DAYS_REGISTRATION': 6.0365534541554926e-120,\n",
       " 'DAYS_ID_PUBLISH': 2.527523814198052e-179,\n",
       " 'CNT_FAM_MEMBERS': 2.4485092616990623e-07,\n",
       " 'HOUR_APPR_PROCESS_START': 5.826823528542842e-41,\n",
       " 'EXT_SOURCE_2': 0.0,\n",
       " 'EXT_SOURCE_3': 0.0,\n",
       " 'OBS_30_CNT_SOCIAL_CIRCLE': 4.2083174080918836e-07,\n",
       " 'DEF_30_CNT_SOCIAL_CIRCLE': 1.9282236658471134e-71,\n",
       " 'OBS_60_CNT_SOCIAL_CIRCLE': 5.758343188747271e-07,\n",
       " 'DEF_60_CNT_SOCIAL_CIRCLE': 2.600710458865681e-67,\n",
       " 'DAYS_LAST_PHONE_CHANGE': 3.1837199188792205e-206,\n",
       " 'AMT_REQ_CREDIT_BUREAU_HOUR': 0.6382568757674145,\n",
       " 'AMT_REQ_CREDIT_BUREAU_DAY': 0.17177647564740878,\n",
       " 'AMT_REQ_CREDIT_BUREAU_WEEK': 0.6906113957174211,\n",
       " 'AMT_REQ_CREDIT_BUREAU_MON': 3.0271951830348865e-10,\n",
       " 'AMT_REQ_CREDIT_BUREAU_QRT': 0.3069384507085001,\n",
       " 'AMT_REQ_CREDIT_BUREAU_YEAR': 7.402835758528336e-24}"
      ]
     },
     "execution_count": 90,
     "metadata": {},
     "output_type": "execute_result"
    }
   ],
   "source": [
    "dict_anova"
   ]
  },
  {
   "cell_type": "markdown",
   "metadata": {},
   "source": [
    "#### 3b. Chi Square"
   ]
  },
  {
   "cell_type": "code",
   "execution_count": 91,
   "metadata": {},
   "outputs": [
    {
     "name": "stdout",
     "output_type": "stream",
     "text": [
      "P-value of Chi Square: 4.183493188620687e-202\n"
     ]
    }
   ],
   "source": [
    "# Assumption (H0) is between 2 variables are NOT correlated\n",
    "# Reject H0 if p-value < 0.05 (Reject = correlated)\n",
    "\n",
    "crosstab_result = pd.crosstab(index = app_train[\"CODE_GENDER\"], \n",
    "                              columns = app_train[\"TARGET\"])\n",
    "chisquare_result = chi2_contingency(crosstab_result)\n",
    "print(\"P-value of Chi Square:\", chisquare_result[1])"
   ]
  },
  {
   "cell_type": "code",
   "execution_count": 92,
   "metadata": {},
   "outputs": [],
   "source": [
    "dict_chisquare = {}\n",
    "for i in list_cat:\n",
    "    crosstab_result = pd.crosstab(index = app_train[i], \n",
    "                                  columns = app_train[\"TARGET\"])\n",
    "    pvalue_chisquare = chi2_contingency(crosstab_result)[1]\n",
    "    dict_chisquare[i] = pvalue_chisquare"
   ]
  },
  {
   "cell_type": "code",
   "execution_count": 93,
   "metadata": {},
   "outputs": [
    {
     "data": {
      "text/plain": [
       "{'TARGET': 0.0,\n",
       " 'NAME_CONTRACT_TYPE': 1.0235150721172847e-65,\n",
       " 'CODE_GENDER': 4.183493188620687e-202,\n",
       " 'FLAG_OWN_CAR': 9.330994431109667e-34,\n",
       " 'FLAG_OWN_REALTY': 0.0006681470317545887,\n",
       " 'NAME_TYPE_SUITE': 1.669680344640335e-05,\n",
       " 'NAME_INCOME_TYPE': 1.9281456056861122e-266,\n",
       " 'NAME_EDUCATION_TYPE': 2.4476812052198174e-219,\n",
       " 'NAME_FAMILY_STATUS': 6.983958115483933e-108,\n",
       " 'NAME_HOUSING_TYPE': 1.0990890032617707e-88,\n",
       " 'FLAG_MOBIL': 0.12378615154489829,\n",
       " 'FLAG_EMP_PHONE': 2.5306059279614537e-143,\n",
       " 'FLAG_WORK_PHONE': 2.6758000919452704e-56,\n",
       " 'FLAG_CONT_MOBILE': 0.8976989816319643,\n",
       " 'FLAG_PHONE': 9.489418049556951e-40,\n",
       " 'FLAG_EMAIL': 0.3366632895181666,\n",
       " 'REGION_RATING_CLIENT': 1.8283164955910817e-232,\n",
       " 'REGION_RATING_CLIENT_W_CITY': 5.05571529094165e-249,\n",
       " 'WEEKDAY_APPR_PROCESS_START': 0.01744736931389504,\n",
       " 'REG_REGION_NOT_LIVE_REGION': 0.0021769580022904804,\n",
       " 'REG_REGION_NOT_WORK_REGION': 0.0001258375420219184,\n",
       " 'LIVE_REGION_NOT_WORK_REGION': 0.12192447948152679,\n",
       " 'REG_CITY_NOT_LIVE_CITY': 1.0752352295806783e-133,\n",
       " 'REG_CITY_NOT_WORK_CITY': 7.98127695863221e-176,\n",
       " 'LIVE_CITY_NOT_WORK_CITY': 1.2629385266970663e-72,\n",
       " 'ORGANIZATION_TYPE': 1.6120155093065654e-281,\n",
       " 'FLAG_DOCUMENT_2': 0.012597746385457218,\n",
       " 'FLAG_DOCUMENT_3': 1.8557477135709125e-133,\n",
       " 'FLAG_DOCUMENT_4': 0.2649917939107048,\n",
       " 'FLAG_DOCUMENT_5': 0.8823563514069667,\n",
       " 'FLAG_DOCUMENT_6': 1.425605347566481e-56,\n",
       " 'FLAG_DOCUMENT_7': 0.5460783940196792,\n",
       " 'FLAG_DOCUMENT_8': 8.724696176376265e-06,\n",
       " 'FLAG_DOCUMENT_9': 0.0182533270011425,\n",
       " 'FLAG_DOCUMENT_10': 0.9280282269633106,\n",
       " 'FLAG_DOCUMENT_11': 0.02188786168173307,\n",
       " 'FLAG_DOCUMENT_12': 0.3795390674134992,\n",
       " 'FLAG_DOCUMENT_13': 1.921626387971088e-10,\n",
       " 'FLAG_DOCUMENT_14': 2.138597509727043e-07,\n",
       " 'FLAG_DOCUMENT_15': 0.00041706549210387414,\n",
       " 'FLAG_DOCUMENT_16': 1.4804321259373877e-10,\n",
       " 'FLAG_DOCUMENT_17': 0.09486562522282957,\n",
       " 'FLAG_DOCUMENT_18': 1.2253312611830229e-05,\n",
       " 'FLAG_DOCUMENT_19': 0.5371847664073595,\n",
       " 'FLAG_DOCUMENT_20': 0.9780255911989449,\n",
       " 'FLAG_DOCUMENT_21': 0.06069787317885163}"
      ]
     },
     "execution_count": 93,
     "metadata": {},
     "output_type": "execute_result"
    }
   ],
   "source": [
    "dict_chisquare"
   ]
  },
  {
   "cell_type": "code",
   "execution_count": 94,
   "metadata": {},
   "outputs": [
    {
     "data": {
      "text/plain": [
       "(26, 46)"
      ]
     },
     "execution_count": 94,
     "metadata": {},
     "output_type": "execute_result"
    }
   ],
   "source": [
    "len(dict_anova), len(dict_chisquare)"
   ]
  },
  {
   "cell_type": "code",
   "execution_count": 95,
   "metadata": {},
   "outputs": [
    {
     "data": {
      "text/plain": [
       "72"
      ]
     },
     "execution_count": 95,
     "metadata": {},
     "output_type": "execute_result"
    }
   ],
   "source": [
    "# Combine p_value from ANOVA and Chi Square\n",
    "pvalue_all = dict(dict_anova)\n",
    "pvalue_all.update(dict_chisquare)\n",
    "len(pvalue_all)"
   ]
  },
  {
   "cell_type": "code",
   "execution_count": 96,
   "metadata": {},
   "outputs": [],
   "source": [
    "# Just select variables that have correlation with \"TARGET\"\n",
    "correlated_var = []\n",
    "for var, pvalue in pvalue_all.items():\n",
    "    if pvalue <= 0.05:\n",
    "        correlated_var.append(var)\n",
    "        \n",
    "correlated_var.append(\"SK_ID_CURR\")"
   ]
  },
  {
   "cell_type": "code",
   "execution_count": 97,
   "metadata": {},
   "outputs": [
    {
     "data": {
      "text/plain": [
       "55"
      ]
     },
     "execution_count": 97,
     "metadata": {},
     "output_type": "execute_result"
    }
   ],
   "source": [
    "len(correlated_var)"
   ]
  },
  {
   "cell_type": "code",
   "execution_count": 98,
   "metadata": {
    "scrolled": true
   },
   "outputs": [
    {
     "data": {
      "text/plain": [
       "['CNT_CHILDREN',\n",
       " 'AMT_INCOME_TOTAL',\n",
       " 'AMT_CREDIT',\n",
       " 'AMT_ANNUITY',\n",
       " 'AMT_GOODS_PRICE',\n",
       " 'REGION_POPULATION_RELATIVE',\n",
       " 'DAYS_BIRTH',\n",
       " 'DAYS_EMPLOYED',\n",
       " 'DAYS_REGISTRATION',\n",
       " 'DAYS_ID_PUBLISH',\n",
       " 'CNT_FAM_MEMBERS',\n",
       " 'HOUR_APPR_PROCESS_START',\n",
       " 'EXT_SOURCE_2',\n",
       " 'EXT_SOURCE_3',\n",
       " 'OBS_30_CNT_SOCIAL_CIRCLE',\n",
       " 'DEF_30_CNT_SOCIAL_CIRCLE',\n",
       " 'OBS_60_CNT_SOCIAL_CIRCLE',\n",
       " 'DEF_60_CNT_SOCIAL_CIRCLE',\n",
       " 'DAYS_LAST_PHONE_CHANGE',\n",
       " 'AMT_REQ_CREDIT_BUREAU_MON',\n",
       " 'AMT_REQ_CREDIT_BUREAU_YEAR',\n",
       " 'TARGET',\n",
       " 'NAME_CONTRACT_TYPE',\n",
       " 'CODE_GENDER',\n",
       " 'FLAG_OWN_CAR',\n",
       " 'FLAG_OWN_REALTY',\n",
       " 'NAME_TYPE_SUITE',\n",
       " 'NAME_INCOME_TYPE',\n",
       " 'NAME_EDUCATION_TYPE',\n",
       " 'NAME_FAMILY_STATUS',\n",
       " 'NAME_HOUSING_TYPE',\n",
       " 'FLAG_EMP_PHONE',\n",
       " 'FLAG_WORK_PHONE',\n",
       " 'FLAG_PHONE',\n",
       " 'REGION_RATING_CLIENT',\n",
       " 'REGION_RATING_CLIENT_W_CITY',\n",
       " 'WEEKDAY_APPR_PROCESS_START',\n",
       " 'REG_REGION_NOT_LIVE_REGION',\n",
       " 'REG_REGION_NOT_WORK_REGION',\n",
       " 'REG_CITY_NOT_LIVE_CITY',\n",
       " 'REG_CITY_NOT_WORK_CITY',\n",
       " 'LIVE_CITY_NOT_WORK_CITY',\n",
       " 'ORGANIZATION_TYPE',\n",
       " 'FLAG_DOCUMENT_2',\n",
       " 'FLAG_DOCUMENT_3',\n",
       " 'FLAG_DOCUMENT_6',\n",
       " 'FLAG_DOCUMENT_8',\n",
       " 'FLAG_DOCUMENT_9',\n",
       " 'FLAG_DOCUMENT_11',\n",
       " 'FLAG_DOCUMENT_13',\n",
       " 'FLAG_DOCUMENT_14',\n",
       " 'FLAG_DOCUMENT_15',\n",
       " 'FLAG_DOCUMENT_16',\n",
       " 'FLAG_DOCUMENT_18',\n",
       " 'SK_ID_CURR']"
      ]
     },
     "execution_count": 98,
     "metadata": {},
     "output_type": "execute_result"
    }
   ],
   "source": [
    "correlated_var"
   ]
  },
  {
   "cell_type": "code",
   "execution_count": 99,
   "metadata": {},
   "outputs": [
    {
     "data": {
      "text/plain": [
       "(307511, 55)"
      ]
     },
     "execution_count": 99,
     "metadata": {},
     "output_type": "execute_result"
    }
   ],
   "source": [
    "app_train = app_train[correlated_var]\n",
    "app_train.shape"
   ]
  },
  {
   "cell_type": "markdown",
   "metadata": {},
   "source": [
    "### 4. Handling Categorical Data"
   ]
  },
  {
   "cell_type": "code",
   "execution_count": 100,
   "metadata": {},
   "outputs": [],
   "source": [
    "app_train_ok = app_train.copy()"
   ]
  },
  {
   "cell_type": "code",
   "execution_count": 101,
   "metadata": {},
   "outputs": [],
   "source": [
    "app_train_ok.to_csv(\"data train with correlated var.csv\")"
   ]
  },
  {
   "cell_type": "code",
   "execution_count": 102,
   "metadata": {},
   "outputs": [
    {
     "name": "stdout",
     "output_type": "stream",
     "text": [
      "TARGET\n",
      "[1 0]\n",
      "\n",
      "----------\n",
      "NAME_CONTRACT_TYPE\n",
      "['Cash loans' 'Revolving loans']\n",
      "\n",
      "----------\n",
      "CODE_GENDER\n",
      "['M' 'F']\n",
      "\n",
      "----------\n",
      "FLAG_OWN_CAR\n",
      "['N' 'Y']\n",
      "\n",
      "----------\n",
      "FLAG_OWN_REALTY\n",
      "['Y' 'N']\n",
      "\n",
      "----------\n",
      "NAME_TYPE_SUITE\n",
      "['Unaccompanied' 'Family' 'Spouse, partner' 'Children' 'Other_A' 'Other_B'\n",
      " 'Group of people']\n",
      "\n",
      "----------\n",
      "NAME_INCOME_TYPE\n",
      "['Working' 'State servant' 'Commercial associate' 'Pensioner' 'Unemployed'\n",
      " 'Student' 'Businessman' 'Maternity leave']\n",
      "\n",
      "----------\n",
      "NAME_EDUCATION_TYPE\n",
      "['Secondary / secondary special' 'Higher education' 'Incomplete higher'\n",
      " 'Lower secondary' 'Academic degree']\n",
      "\n",
      "----------\n",
      "NAME_FAMILY_STATUS\n",
      "['Single / not married' 'Married' 'Civil marriage' 'Widow' 'Separated']\n",
      "\n",
      "----------\n",
      "NAME_HOUSING_TYPE\n",
      "['House / apartment' 'Rented apartment' 'With parents'\n",
      " 'Municipal apartment' 'Office apartment' 'Co-op apartment']\n",
      "\n",
      "----------\n",
      "FLAG_EMP_PHONE\n",
      "[1 0]\n",
      "\n",
      "----------\n",
      "FLAG_WORK_PHONE\n",
      "[0 1]\n",
      "\n",
      "----------\n",
      "FLAG_PHONE\n",
      "[1 0]\n",
      "\n",
      "----------\n",
      "REGION_RATING_CLIENT\n",
      "[2 1 3]\n",
      "\n",
      "----------\n",
      "REGION_RATING_CLIENT_W_CITY\n",
      "[2 1 3]\n",
      "\n",
      "----------\n",
      "WEEKDAY_APPR_PROCESS_START\n",
      "['WEDNESDAY' 'MONDAY' 'THURSDAY' 'SUNDAY' 'SATURDAY' 'FRIDAY' 'TUESDAY']\n",
      "\n",
      "----------\n",
      "REG_REGION_NOT_LIVE_REGION\n",
      "[0 1]\n",
      "\n",
      "----------\n",
      "REG_REGION_NOT_WORK_REGION\n",
      "[0 1]\n",
      "\n",
      "----------\n",
      "REG_CITY_NOT_LIVE_CITY\n",
      "[0 1]\n",
      "\n",
      "----------\n",
      "REG_CITY_NOT_WORK_CITY\n",
      "[0 1]\n",
      "\n",
      "----------\n",
      "LIVE_CITY_NOT_WORK_CITY\n",
      "[0 1]\n",
      "\n",
      "----------\n",
      "ORGANIZATION_TYPE\n",
      "['Business Entity Type 3' 'School' 'Government' 'Religion' 'Other'\n",
      " 'Electricity' 'Medicine' 'Business Entity Type 2' 'Self-employed'\n",
      " 'Transport: type 2' 'Construction' 'Housing' 'Kindergarten'\n",
      " 'Trade: type 7' 'Industry: type 11' 'Military' 'Services'\n",
      " 'Security Ministries' 'Transport: type 4' 'Industry: type 1' 'Emergency'\n",
      " 'Security' 'Trade: type 2' 'University' 'Transport: type 3' 'Police'\n",
      " 'Business Entity Type 1' 'Postal' 'Industry: type 4' 'Agriculture'\n",
      " 'Restaurant' 'Culture' 'Hotel' 'Industry: type 7' 'Trade: type 3'\n",
      " 'Industry: type 3' 'Bank' 'Industry: type 9' 'Insurance' 'Trade: type 6'\n",
      " 'Industry: type 2' 'Transport: type 1' 'Industry: type 12' 'Mobile'\n",
      " 'Trade: type 1' 'Industry: type 5' 'Industry: type 10' 'Legal Services'\n",
      " 'Advertising' 'Trade: type 5' 'Cleaning' 'Industry: type 13'\n",
      " 'Trade: type 4' 'Telecom' 'Industry: type 8' 'Realtor' 'Industry: type 6']\n",
      "\n",
      "----------\n",
      "FLAG_DOCUMENT_2\n",
      "[0 1]\n",
      "\n",
      "----------\n",
      "FLAG_DOCUMENT_3\n",
      "[1 0]\n",
      "\n",
      "----------\n",
      "FLAG_DOCUMENT_6\n",
      "[0 1]\n",
      "\n",
      "----------\n",
      "FLAG_DOCUMENT_8\n",
      "[0 1]\n",
      "\n",
      "----------\n",
      "FLAG_DOCUMENT_9\n",
      "[0 1]\n",
      "\n",
      "----------\n",
      "FLAG_DOCUMENT_11\n",
      "[0 1]\n",
      "\n",
      "----------\n",
      "FLAG_DOCUMENT_13\n",
      "[0 1]\n",
      "\n",
      "----------\n",
      "FLAG_DOCUMENT_14\n",
      "[0 1]\n",
      "\n",
      "----------\n",
      "FLAG_DOCUMENT_15\n",
      "[0 1]\n",
      "\n",
      "----------\n",
      "FLAG_DOCUMENT_16\n",
      "[0 1]\n",
      "\n",
      "----------\n",
      "FLAG_DOCUMENT_18\n",
      "[0 1]\n",
      "\n",
      "----------\n"
     ]
    }
   ],
   "source": [
    "list_cat_ok = list(app_train_ok.select_dtypes(include = \"object\").columns)\n",
    "for i in list_cat_ok:\n",
    "    print(i)\n",
    "    print(app_train_ok[i].unique())\n",
    "    print(\"\\n----------\")\n",
    "\n",
    "list_cat_ok.remove(\"TARGET\")\n",
    "# All of the categorical variables are nominal -> use get_dummies"
   ]
  },
  {
   "cell_type": "code",
   "execution_count": 103,
   "metadata": {},
   "outputs": [],
   "source": [
    "# Use OneHotEncoder\n",
    "from sklearn.preprocessing import OneHotEncoder"
   ]
  },
  {
   "cell_type": "code",
   "execution_count": 104,
   "metadata": {},
   "outputs": [
    {
     "name": "stderr",
     "output_type": "stream",
     "text": [
      "C:\\Users\\LENOVO\\anaconda3\\lib\\site-packages\\sklearn\\preprocessing\\_encoders.py:868: FutureWarning: `sparse` was renamed to `sparse_output` in version 1.2 and will be removed in 1.4. `sparse_output` is ignored unless you leave `sparse` to its default value.\n",
      "  warnings.warn(\n"
     ]
    }
   ],
   "source": [
    "ohe = OneHotEncoder(sparse = False, handle_unknown = \"ignore\")\n",
    "encoded_nominal = ohe.fit(app_train_ok[list_cat_ok])\n",
    "encoded_nominal = ohe.transform(app_train_ok[list_cat_ok])\n",
    "\n",
    "# Converting to a dataframe \n",
    "encoded_nominal_df = pd.DataFrame(encoded_nominal, columns = ohe.get_feature_names_out())\n",
    "\n",
    "# Combine with the original data\n",
    "app_train_ok = pd.concat(objs = [encoded_nominal_df, app_train_ok], axis = 1)\n",
    "app_train_ok.drop(list_cat_ok, axis = 1, inplace = True)"
   ]
  },
  {
   "cell_type": "code",
   "execution_count": 105,
   "metadata": {},
   "outputs": [
    {
     "data": {
      "text/plain": [
       "['one_hot_encoder.pkl']"
      ]
     },
     "execution_count": 105,
     "metadata": {},
     "output_type": "execute_result"
    }
   ],
   "source": [
    "# Save the \"ohe\" object to use in test data\n",
    "joblib.dump(ohe, \"one_hot_encoder.pkl\")"
   ]
  },
  {
   "cell_type": "code",
   "execution_count": 59,
   "metadata": {},
   "outputs": [
    {
     "data": {
      "text/html": [
       "<div>\n",
       "<style scoped>\n",
       "    .dataframe tbody tr th:only-of-type {\n",
       "        vertical-align: middle;\n",
       "    }\n",
       "\n",
       "    .dataframe tbody tr th {\n",
       "        vertical-align: top;\n",
       "    }\n",
       "\n",
       "    .dataframe thead th {\n",
       "        text-align: right;\n",
       "    }\n",
       "</style>\n",
       "<table border=\"1\" class=\"dataframe\">\n",
       "  <thead>\n",
       "    <tr style=\"text-align: right;\">\n",
       "      <th></th>\n",
       "      <th>NAME_CONTRACT_TYPE_Cash loans</th>\n",
       "      <th>NAME_CONTRACT_TYPE_Revolving loans</th>\n",
       "      <th>CODE_GENDER_F</th>\n",
       "      <th>CODE_GENDER_M</th>\n",
       "      <th>FLAG_OWN_CAR_N</th>\n",
       "      <th>FLAG_OWN_CAR_Y</th>\n",
       "      <th>FLAG_OWN_REALTY_N</th>\n",
       "      <th>FLAG_OWN_REALTY_Y</th>\n",
       "      <th>NAME_TYPE_SUITE_Children</th>\n",
       "      <th>NAME_TYPE_SUITE_Family</th>\n",
       "      <th>...</th>\n",
       "      <th>EXT_SOURCE_3</th>\n",
       "      <th>OBS_30_CNT_SOCIAL_CIRCLE</th>\n",
       "      <th>DEF_30_CNT_SOCIAL_CIRCLE</th>\n",
       "      <th>OBS_60_CNT_SOCIAL_CIRCLE</th>\n",
       "      <th>DEF_60_CNT_SOCIAL_CIRCLE</th>\n",
       "      <th>DAYS_LAST_PHONE_CHANGE</th>\n",
       "      <th>AMT_REQ_CREDIT_BUREAU_MON</th>\n",
       "      <th>AMT_REQ_CREDIT_BUREAU_YEAR</th>\n",
       "      <th>TARGET</th>\n",
       "      <th>SK_ID_CURR</th>\n",
       "    </tr>\n",
       "  </thead>\n",
       "  <tbody>\n",
       "    <tr>\n",
       "      <th>0</th>\n",
       "      <td>1.0</td>\n",
       "      <td>0.0</td>\n",
       "      <td>0.0</td>\n",
       "      <td>1.0</td>\n",
       "      <td>1.0</td>\n",
       "      <td>0.0</td>\n",
       "      <td>0.0</td>\n",
       "      <td>1.0</td>\n",
       "      <td>0.0</td>\n",
       "      <td>0.0</td>\n",
       "      <td>...</td>\n",
       "      <td>0.139376</td>\n",
       "      <td>2.0</td>\n",
       "      <td>2.0</td>\n",
       "      <td>2.0</td>\n",
       "      <td>2.0</td>\n",
       "      <td>-1134.0</td>\n",
       "      <td>0.0</td>\n",
       "      <td>1.0</td>\n",
       "      <td>1</td>\n",
       "      <td>100002</td>\n",
       "    </tr>\n",
       "    <tr>\n",
       "      <th>1</th>\n",
       "      <td>1.0</td>\n",
       "      <td>0.0</td>\n",
       "      <td>1.0</td>\n",
       "      <td>0.0</td>\n",
       "      <td>1.0</td>\n",
       "      <td>0.0</td>\n",
       "      <td>1.0</td>\n",
       "      <td>0.0</td>\n",
       "      <td>0.0</td>\n",
       "      <td>1.0</td>\n",
       "      <td>...</td>\n",
       "      <td>0.510853</td>\n",
       "      <td>1.0</td>\n",
       "      <td>0.0</td>\n",
       "      <td>1.0</td>\n",
       "      <td>0.0</td>\n",
       "      <td>-828.0</td>\n",
       "      <td>0.0</td>\n",
       "      <td>0.0</td>\n",
       "      <td>0</td>\n",
       "      <td>100003</td>\n",
       "    </tr>\n",
       "  </tbody>\n",
       "</table>\n",
       "<p>2 rows × 170 columns</p>\n",
       "</div>"
      ],
      "text/plain": [
       "   NAME_CONTRACT_TYPE_Cash loans  NAME_CONTRACT_TYPE_Revolving loans  \\\n",
       "0                            1.0                                 0.0   \n",
       "1                            1.0                                 0.0   \n",
       "\n",
       "   CODE_GENDER_F  CODE_GENDER_M  FLAG_OWN_CAR_N  FLAG_OWN_CAR_Y  \\\n",
       "0            0.0            1.0             1.0             0.0   \n",
       "1            1.0            0.0             1.0             0.0   \n",
       "\n",
       "   FLAG_OWN_REALTY_N  FLAG_OWN_REALTY_Y  NAME_TYPE_SUITE_Children  \\\n",
       "0                0.0                1.0                       0.0   \n",
       "1                1.0                0.0                       0.0   \n",
       "\n",
       "   NAME_TYPE_SUITE_Family  ...  EXT_SOURCE_3  OBS_30_CNT_SOCIAL_CIRCLE  \\\n",
       "0                     0.0  ...      0.139376                       2.0   \n",
       "1                     1.0  ...      0.510853                       1.0   \n",
       "\n",
       "   DEF_30_CNT_SOCIAL_CIRCLE  OBS_60_CNT_SOCIAL_CIRCLE  \\\n",
       "0                       2.0                       2.0   \n",
       "1                       0.0                       1.0   \n",
       "\n",
       "   DEF_60_CNT_SOCIAL_CIRCLE  DAYS_LAST_PHONE_CHANGE  \\\n",
       "0                       2.0                 -1134.0   \n",
       "1                       0.0                  -828.0   \n",
       "\n",
       "   AMT_REQ_CREDIT_BUREAU_MON  AMT_REQ_CREDIT_BUREAU_YEAR  TARGET  SK_ID_CURR  \n",
       "0                        0.0                         1.0       1      100002  \n",
       "1                        0.0                         0.0       0      100003  \n",
       "\n",
       "[2 rows x 170 columns]"
      ]
     },
     "execution_count": 59,
     "metadata": {},
     "output_type": "execute_result"
    }
   ],
   "source": [
    "app_train_ok.head(2)"
   ]
  },
  {
   "cell_type": "code",
   "execution_count": 60,
   "metadata": {},
   "outputs": [
    {
     "data": {
      "text/html": [
       "<div>\n",
       "<style scoped>\n",
       "    .dataframe tbody tr th:only-of-type {\n",
       "        vertical-align: middle;\n",
       "    }\n",
       "\n",
       "    .dataframe tbody tr th {\n",
       "        vertical-align: top;\n",
       "    }\n",
       "\n",
       "    .dataframe thead th {\n",
       "        text-align: right;\n",
       "    }\n",
       "</style>\n",
       "<table border=\"1\" class=\"dataframe\">\n",
       "  <thead>\n",
       "    <tr style=\"text-align: right;\">\n",
       "      <th></th>\n",
       "      <th>NAME_CONTRACT_TYPE_Cash loans</th>\n",
       "      <th>NAME_CONTRACT_TYPE_Revolving loans</th>\n",
       "      <th>CODE_GENDER_F</th>\n",
       "      <th>CODE_GENDER_M</th>\n",
       "      <th>FLAG_OWN_CAR_N</th>\n",
       "      <th>FLAG_OWN_CAR_Y</th>\n",
       "      <th>FLAG_OWN_REALTY_N</th>\n",
       "      <th>FLAG_OWN_REALTY_Y</th>\n",
       "      <th>NAME_TYPE_SUITE_Children</th>\n",
       "      <th>NAME_TYPE_SUITE_Family</th>\n",
       "      <th>...</th>\n",
       "      <th>EXT_SOURCE_2</th>\n",
       "      <th>EXT_SOURCE_3</th>\n",
       "      <th>OBS_30_CNT_SOCIAL_CIRCLE</th>\n",
       "      <th>DEF_30_CNT_SOCIAL_CIRCLE</th>\n",
       "      <th>OBS_60_CNT_SOCIAL_CIRCLE</th>\n",
       "      <th>DEF_60_CNT_SOCIAL_CIRCLE</th>\n",
       "      <th>DAYS_LAST_PHONE_CHANGE</th>\n",
       "      <th>AMT_REQ_CREDIT_BUREAU_MON</th>\n",
       "      <th>AMT_REQ_CREDIT_BUREAU_YEAR</th>\n",
       "      <th>TARGET</th>\n",
       "    </tr>\n",
       "  </thead>\n",
       "  <tbody>\n",
       "    <tr>\n",
       "      <th>0</th>\n",
       "      <td>1.0</td>\n",
       "      <td>0.0</td>\n",
       "      <td>0.0</td>\n",
       "      <td>1.0</td>\n",
       "      <td>1.0</td>\n",
       "      <td>0.0</td>\n",
       "      <td>0.0</td>\n",
       "      <td>1.0</td>\n",
       "      <td>0.0</td>\n",
       "      <td>0.0</td>\n",
       "      <td>...</td>\n",
       "      <td>0.262949</td>\n",
       "      <td>0.139376</td>\n",
       "      <td>2.0</td>\n",
       "      <td>2.0</td>\n",
       "      <td>2.0</td>\n",
       "      <td>2.0</td>\n",
       "      <td>-1134.0</td>\n",
       "      <td>0.0</td>\n",
       "      <td>1.0</td>\n",
       "      <td>1</td>\n",
       "    </tr>\n",
       "    <tr>\n",
       "      <th>1</th>\n",
       "      <td>1.0</td>\n",
       "      <td>0.0</td>\n",
       "      <td>1.0</td>\n",
       "      <td>0.0</td>\n",
       "      <td>1.0</td>\n",
       "      <td>0.0</td>\n",
       "      <td>1.0</td>\n",
       "      <td>0.0</td>\n",
       "      <td>0.0</td>\n",
       "      <td>1.0</td>\n",
       "      <td>...</td>\n",
       "      <td>0.622246</td>\n",
       "      <td>0.510853</td>\n",
       "      <td>1.0</td>\n",
       "      <td>0.0</td>\n",
       "      <td>1.0</td>\n",
       "      <td>0.0</td>\n",
       "      <td>-828.0</td>\n",
       "      <td>0.0</td>\n",
       "      <td>0.0</td>\n",
       "      <td>0</td>\n",
       "    </tr>\n",
       "  </tbody>\n",
       "</table>\n",
       "<p>2 rows × 169 columns</p>\n",
       "</div>"
      ],
      "text/plain": [
       "   NAME_CONTRACT_TYPE_Cash loans  NAME_CONTRACT_TYPE_Revolving loans  \\\n",
       "0                            1.0                                 0.0   \n",
       "1                            1.0                                 0.0   \n",
       "\n",
       "   CODE_GENDER_F  CODE_GENDER_M  FLAG_OWN_CAR_N  FLAG_OWN_CAR_Y  \\\n",
       "0            0.0            1.0             1.0             0.0   \n",
       "1            1.0            0.0             1.0             0.0   \n",
       "\n",
       "   FLAG_OWN_REALTY_N  FLAG_OWN_REALTY_Y  NAME_TYPE_SUITE_Children  \\\n",
       "0                0.0                1.0                       0.0   \n",
       "1                1.0                0.0                       0.0   \n",
       "\n",
       "   NAME_TYPE_SUITE_Family  ...  EXT_SOURCE_2  EXT_SOURCE_3  \\\n",
       "0                     0.0  ...      0.262949      0.139376   \n",
       "1                     1.0  ...      0.622246      0.510853   \n",
       "\n",
       "   OBS_30_CNT_SOCIAL_CIRCLE  DEF_30_CNT_SOCIAL_CIRCLE  \\\n",
       "0                       2.0                       2.0   \n",
       "1                       1.0                       0.0   \n",
       "\n",
       "   OBS_60_CNT_SOCIAL_CIRCLE  DEF_60_CNT_SOCIAL_CIRCLE  DAYS_LAST_PHONE_CHANGE  \\\n",
       "0                       2.0                       2.0                 -1134.0   \n",
       "1                       1.0                       0.0                  -828.0   \n",
       "\n",
       "   AMT_REQ_CREDIT_BUREAU_MON  AMT_REQ_CREDIT_BUREAU_YEAR  TARGET  \n",
       "0                        0.0                         1.0       1  \n",
       "1                        0.0                         0.0       0  \n",
       "\n",
       "[2 rows x 169 columns]"
      ]
     },
     "execution_count": 60,
     "metadata": {},
     "output_type": "execute_result"
    }
   ],
   "source": [
    "app_train_ok = app_train_ok.drop(\"SK_ID_CURR\", axis = 1)\n",
    "app_train_ok.head(2)"
   ]
  },
  {
   "cell_type": "markdown",
   "metadata": {},
   "source": [
    "### 5. Handling Imbalanced Data"
   ]
  },
  {
   "cell_type": "code",
   "execution_count": 68,
   "metadata": {},
   "outputs": [
    {
     "data": {
      "text/plain": [
       "0    91.927118\n",
       "1     8.072882\n",
       "Name: TARGET, dtype: float64"
      ]
     },
     "execution_count": 68,
     "metadata": {},
     "output_type": "execute_result"
    }
   ],
   "source": [
    "# Percentage of each class\n",
    "app_train_ok[\"TARGET\"].value_counts() / len(app_train_ok) * 100"
   ]
  },
  {
   "cell_type": "code",
   "execution_count": 69,
   "metadata": {},
   "outputs": [],
   "source": [
    "# !pip install -U imbalanced-learn\n",
    "# !pip install imblearn"
   ]
  },
  {
   "cell_type": "code",
   "execution_count": 70,
   "metadata": {},
   "outputs": [],
   "source": [
    "X = app_train_ok.drop(\"TARGET\", axis = 1)\n",
    "y = app_train_ok[\"TARGET\"]\n",
    "y = y.astype(\"int\")"
   ]
  },
  {
   "cell_type": "code",
   "execution_count": 71,
   "metadata": {},
   "outputs": [
    {
     "data": {
      "text/plain": [
       "168"
      ]
     },
     "execution_count": 71,
     "metadata": {},
     "output_type": "execute_result"
    }
   ],
   "source": [
    "len(X.columns)"
   ]
  },
  {
   "cell_type": "code",
   "execution_count": 72,
   "metadata": {},
   "outputs": [
    {
     "data": {
      "text/plain": [
       "0    282686\n",
       "1     24825\n",
       "Name: TARGET, dtype: int64"
      ]
     },
     "execution_count": 72,
     "metadata": {},
     "output_type": "execute_result"
    }
   ],
   "source": [
    "y.value_counts()"
   ]
  },
  {
   "cell_type": "code",
   "execution_count": 73,
   "metadata": {
    "scrolled": true
   },
   "outputs": [],
   "source": [
    "# Oversampling Minority Class using Synthetic Minority Oversampling Technique (SMOTE)\n",
    "from imblearn.over_sampling import SMOTE\n",
    "oversample = SMOTE(random_state = 42)\n",
    "X_smote, y_smote = oversample.fit_resample(X, y)"
   ]
  },
  {
   "cell_type": "code",
   "execution_count": 74,
   "metadata": {},
   "outputs": [],
   "source": [
    "# !pip install -U threadpoolctl\n",
    "\n",
    "# import sklearn\n",
    "# print(sklearn.show_versions())"
   ]
  },
  {
   "cell_type": "code",
   "execution_count": 75,
   "metadata": {},
   "outputs": [
    {
     "data": {
      "text/plain": [
       "1    282686\n",
       "0    282686\n",
       "Name: TARGET, dtype: int64"
      ]
     },
     "execution_count": 75,
     "metadata": {},
     "output_type": "execute_result"
    }
   ],
   "source": [
    "y_smote.value_counts()"
   ]
  },
  {
   "cell_type": "markdown",
   "metadata": {},
   "source": [
    "### 6. Feature Scaling"
   ]
  },
  {
   "cell_type": "code",
   "execution_count": 76,
   "metadata": {},
   "outputs": [
    {
     "data": {
      "text/plain": [
       "(565372, 168)"
      ]
     },
     "execution_count": 76,
     "metadata": {},
     "output_type": "execute_result"
    }
   ],
   "source": [
    "X_smote.shape"
   ]
  },
  {
   "cell_type": "code",
   "execution_count": 77,
   "metadata": {},
   "outputs": [
    {
     "data": {
      "text/plain": [
       "array([dtype('float64'), dtype('int64')], dtype=object)"
      ]
     },
     "execution_count": 77,
     "metadata": {},
     "output_type": "execute_result"
    }
   ],
   "source": [
    "X_smote.dtypes.unique()"
   ]
  },
  {
   "cell_type": "code",
   "execution_count": 78,
   "metadata": {},
   "outputs": [
    {
     "data": {
      "text/plain": [
       "(147, 168)"
      ]
     },
     "execution_count": 78,
     "metadata": {},
     "output_type": "execute_result"
    }
   ],
   "source": [
    "encoded_nominal.shape[1], len(X_smote.columns)"
   ]
  },
  {
   "cell_type": "code",
   "execution_count": 79,
   "metadata": {},
   "outputs": [
    {
     "data": {
      "text/plain": [
       "21"
      ]
     },
     "execution_count": 79,
     "metadata": {},
     "output_type": "execute_result"
    }
   ],
   "source": [
    "168-147 # Numerical variables"
   ]
  },
  {
   "cell_type": "code",
   "execution_count": 80,
   "metadata": {},
   "outputs": [],
   "source": [
    "list_num_ok = []\n",
    "for i in list(X_smote.columns):\n",
    "    if i in list_num:\n",
    "        list_num_ok.append(i)"
   ]
  },
  {
   "cell_type": "code",
   "execution_count": 81,
   "metadata": {},
   "outputs": [
    {
     "data": {
      "text/plain": [
       "21"
      ]
     },
     "execution_count": 81,
     "metadata": {},
     "output_type": "execute_result"
    }
   ],
   "source": [
    "len(list_num_ok)"
   ]
  },
  {
   "cell_type": "code",
   "execution_count": 82,
   "metadata": {},
   "outputs": [],
   "source": [
    "# list_encoded = list(X_smote.select_dtypes(include = \"uint8\").columns)\n",
    "# len(list_encoded)"
   ]
  },
  {
   "cell_type": "code",
   "execution_count": 83,
   "metadata": {},
   "outputs": [
    {
     "data": {
      "text/plain": [
       "['CNT_CHILDREN',\n",
       " 'AMT_INCOME_TOTAL',\n",
       " 'AMT_CREDIT',\n",
       " 'AMT_ANNUITY',\n",
       " 'AMT_GOODS_PRICE',\n",
       " 'REGION_POPULATION_RELATIVE',\n",
       " 'DAYS_BIRTH',\n",
       " 'DAYS_EMPLOYED',\n",
       " 'DAYS_REGISTRATION',\n",
       " 'DAYS_ID_PUBLISH',\n",
       " 'CNT_FAM_MEMBERS',\n",
       " 'HOUR_APPR_PROCESS_START',\n",
       " 'EXT_SOURCE_2',\n",
       " 'EXT_SOURCE_3',\n",
       " 'OBS_30_CNT_SOCIAL_CIRCLE',\n",
       " 'DEF_30_CNT_SOCIAL_CIRCLE',\n",
       " 'OBS_60_CNT_SOCIAL_CIRCLE',\n",
       " 'DEF_60_CNT_SOCIAL_CIRCLE',\n",
       " 'DAYS_LAST_PHONE_CHANGE',\n",
       " 'AMT_REQ_CREDIT_BUREAU_MON',\n",
       " 'AMT_REQ_CREDIT_BUREAU_YEAR']"
      ]
     },
     "execution_count": 83,
     "metadata": {},
     "output_type": "execute_result"
    }
   ],
   "source": [
    "list_non_encoded = list_num_ok\n",
    "list_non_encoded"
   ]
  },
  {
   "cell_type": "code",
   "execution_count": 84,
   "metadata": {},
   "outputs": [],
   "source": [
    "X_smote_stand = X_smote.copy()"
   ]
  },
  {
   "cell_type": "code",
   "execution_count": 85,
   "metadata": {},
   "outputs": [],
   "source": [
    "# Use Standardization\n",
    "from sklearn.preprocessing import StandardScaler"
   ]
  },
  {
   "cell_type": "code",
   "execution_count": 93,
   "metadata": {},
   "outputs": [],
   "source": [
    "# Apply standardization on numerical features\n",
    "import joblib\n",
    "\n",
    "dict_standardization = {}\n",
    "\n",
    "for i in list_non_encoded:\n",
    "    # fit on training data column\n",
    "    scale = StandardScaler()\n",
    "    scale.fit(X_smote_stand[[i]])\n",
    "\n",
    "    # save the scaler object per variable\n",
    "    joblib.dump(scale, \"pickle_standardization/\" + i + \".pkl\")\n",
    "    dict_standardization[i] = \"pickle_standardization/\" + i + \".pkl\"\n",
    "    \n",
    "    # transform the training data column\n",
    "    X_smote_stand[i] = scale.transform(X_smote_stand[[i]])"
   ]
  },
  {
   "cell_type": "code",
   "execution_count": 109,
   "metadata": {},
   "outputs": [
    {
     "data": {
      "text/plain": [
       "['dict_standardization.pkl']"
      ]
     },
     "execution_count": 109,
     "metadata": {},
     "output_type": "execute_result"
    }
   ],
   "source": [
    "# save\n",
    "joblib.dump(dict_standardization, \"dict_standardization.pkl\")"
   ]
  },
  {
   "cell_type": "code",
   "execution_count": 94,
   "metadata": {
    "scrolled": true
   },
   "outputs": [
    {
     "data": {
      "text/plain": [
       "{'CNT_CHILDREN': 'pickle_standardization/CNT_CHILDREN.pkl',\n",
       " 'AMT_INCOME_TOTAL': 'pickle_standardization/AMT_INCOME_TOTAL.pkl',\n",
       " 'AMT_CREDIT': 'pickle_standardization/AMT_CREDIT.pkl',\n",
       " 'AMT_ANNUITY': 'pickle_standardization/AMT_ANNUITY.pkl',\n",
       " 'AMT_GOODS_PRICE': 'pickle_standardization/AMT_GOODS_PRICE.pkl',\n",
       " 'REGION_POPULATION_RELATIVE': 'pickle_standardization/REGION_POPULATION_RELATIVE.pkl',\n",
       " 'DAYS_BIRTH': 'pickle_standardization/DAYS_BIRTH.pkl',\n",
       " 'DAYS_EMPLOYED': 'pickle_standardization/DAYS_EMPLOYED.pkl',\n",
       " 'DAYS_REGISTRATION': 'pickle_standardization/DAYS_REGISTRATION.pkl',\n",
       " 'DAYS_ID_PUBLISH': 'pickle_standardization/DAYS_ID_PUBLISH.pkl',\n",
       " 'CNT_FAM_MEMBERS': 'pickle_standardization/CNT_FAM_MEMBERS.pkl',\n",
       " 'HOUR_APPR_PROCESS_START': 'pickle_standardization/HOUR_APPR_PROCESS_START.pkl',\n",
       " 'EXT_SOURCE_2': 'pickle_standardization/EXT_SOURCE_2.pkl',\n",
       " 'EXT_SOURCE_3': 'pickle_standardization/EXT_SOURCE_3.pkl',\n",
       " 'OBS_30_CNT_SOCIAL_CIRCLE': 'pickle_standardization/OBS_30_CNT_SOCIAL_CIRCLE.pkl',\n",
       " 'DEF_30_CNT_SOCIAL_CIRCLE': 'pickle_standardization/DEF_30_CNT_SOCIAL_CIRCLE.pkl',\n",
       " 'OBS_60_CNT_SOCIAL_CIRCLE': 'pickle_standardization/OBS_60_CNT_SOCIAL_CIRCLE.pkl',\n",
       " 'DEF_60_CNT_SOCIAL_CIRCLE': 'pickle_standardization/DEF_60_CNT_SOCIAL_CIRCLE.pkl',\n",
       " 'DAYS_LAST_PHONE_CHANGE': 'pickle_standardization/DAYS_LAST_PHONE_CHANGE.pkl',\n",
       " 'AMT_REQ_CREDIT_BUREAU_MON': 'pickle_standardization/AMT_REQ_CREDIT_BUREAU_MON.pkl',\n",
       " 'AMT_REQ_CREDIT_BUREAU_YEAR': 'pickle_standardization/AMT_REQ_CREDIT_BUREAU_YEAR.pkl'}"
      ]
     },
     "execution_count": 94,
     "metadata": {},
     "output_type": "execute_result"
    }
   ],
   "source": [
    "dict_standardization"
   ]
  },
  {
   "cell_type": "code",
   "execution_count": 99,
   "metadata": {},
   "outputs": [
    {
     "data": {
      "text/html": [
       "<div>\n",
       "<style scoped>\n",
       "    .dataframe tbody tr th:only-of-type {\n",
       "        vertical-align: middle;\n",
       "    }\n",
       "\n",
       "    .dataframe tbody tr th {\n",
       "        vertical-align: top;\n",
       "    }\n",
       "\n",
       "    .dataframe thead th {\n",
       "        text-align: right;\n",
       "    }\n",
       "</style>\n",
       "<table border=\"1\" class=\"dataframe\">\n",
       "  <thead>\n",
       "    <tr style=\"text-align: right;\">\n",
       "      <th></th>\n",
       "      <th>NAME_CONTRACT_TYPE_Cash loans</th>\n",
       "      <th>NAME_CONTRACT_TYPE_Revolving loans</th>\n",
       "      <th>CODE_GENDER_F</th>\n",
       "      <th>CODE_GENDER_M</th>\n",
       "      <th>FLAG_OWN_CAR_N</th>\n",
       "      <th>FLAG_OWN_CAR_Y</th>\n",
       "      <th>FLAG_OWN_REALTY_N</th>\n",
       "      <th>FLAG_OWN_REALTY_Y</th>\n",
       "      <th>NAME_TYPE_SUITE_Children</th>\n",
       "      <th>NAME_TYPE_SUITE_Family</th>\n",
       "      <th>...</th>\n",
       "      <th>HOUR_APPR_PROCESS_START</th>\n",
       "      <th>EXT_SOURCE_2</th>\n",
       "      <th>EXT_SOURCE_3</th>\n",
       "      <th>OBS_30_CNT_SOCIAL_CIRCLE</th>\n",
       "      <th>DEF_30_CNT_SOCIAL_CIRCLE</th>\n",
       "      <th>OBS_60_CNT_SOCIAL_CIRCLE</th>\n",
       "      <th>DEF_60_CNT_SOCIAL_CIRCLE</th>\n",
       "      <th>DAYS_LAST_PHONE_CHANGE</th>\n",
       "      <th>AMT_REQ_CREDIT_BUREAU_MON</th>\n",
       "      <th>AMT_REQ_CREDIT_BUREAU_YEAR</th>\n",
       "    </tr>\n",
       "  </thead>\n",
       "  <tbody>\n",
       "    <tr>\n",
       "      <th>0</th>\n",
       "      <td>1.0</td>\n",
       "      <td>0.0</td>\n",
       "      <td>0.0</td>\n",
       "      <td>1.0</td>\n",
       "      <td>1.0</td>\n",
       "      <td>0.0</td>\n",
       "      <td>0.0</td>\n",
       "      <td>1.0</td>\n",
       "      <td>0.0</td>\n",
       "      <td>0.0</td>\n",
       "      <td>...</td>\n",
       "      <td>-0.57175</td>\n",
       "      <td>-1.069298</td>\n",
       "      <td>-1.911051</td>\n",
       "      <td>0.248677</td>\n",
       "      <td>4.204997</td>\n",
       "      <td>0.258946</td>\n",
       "      <td>5.281482</td>\n",
       "      <td>-0.324379</td>\n",
       "      <td>-0.345601</td>\n",
       "      <td>-0.587652</td>\n",
       "    </tr>\n",
       "    <tr>\n",
       "      <th>1</th>\n",
       "      <td>1.0</td>\n",
       "      <td>0.0</td>\n",
       "      <td>1.0</td>\n",
       "      <td>0.0</td>\n",
       "      <td>1.0</td>\n",
       "      <td>0.0</td>\n",
       "      <td>1.0</td>\n",
       "      <td>0.0</td>\n",
       "      <td>0.0</td>\n",
       "      <td>1.0</td>\n",
       "      <td>...</td>\n",
       "      <td>-0.24263</td>\n",
       "      <td>0.811721</td>\n",
       "      <td>0.247623</td>\n",
       "      <td>-0.206084</td>\n",
       "      <td>-0.379798</td>\n",
       "      <td>-0.199899</td>\n",
       "      <td>-0.329679</td>\n",
       "      <td>0.086181</td>\n",
       "      <td>-0.345601</td>\n",
       "      <td>-1.208240</td>\n",
       "    </tr>\n",
       "  </tbody>\n",
       "</table>\n",
       "<p>2 rows × 168 columns</p>\n",
       "</div>"
      ],
      "text/plain": [
       "   NAME_CONTRACT_TYPE_Cash loans  NAME_CONTRACT_TYPE_Revolving loans  \\\n",
       "0                            1.0                                 0.0   \n",
       "1                            1.0                                 0.0   \n",
       "\n",
       "   CODE_GENDER_F  CODE_GENDER_M  FLAG_OWN_CAR_N  FLAG_OWN_CAR_Y  \\\n",
       "0            0.0            1.0             1.0             0.0   \n",
       "1            1.0            0.0             1.0             0.0   \n",
       "\n",
       "   FLAG_OWN_REALTY_N  FLAG_OWN_REALTY_Y  NAME_TYPE_SUITE_Children  \\\n",
       "0                0.0                1.0                       0.0   \n",
       "1                1.0                0.0                       0.0   \n",
       "\n",
       "   NAME_TYPE_SUITE_Family  ...  HOUR_APPR_PROCESS_START  EXT_SOURCE_2  \\\n",
       "0                     0.0  ...                 -0.57175     -1.069298   \n",
       "1                     1.0  ...                 -0.24263      0.811721   \n",
       "\n",
       "   EXT_SOURCE_3  OBS_30_CNT_SOCIAL_CIRCLE  DEF_30_CNT_SOCIAL_CIRCLE  \\\n",
       "0     -1.911051                  0.248677                  4.204997   \n",
       "1      0.247623                 -0.206084                 -0.379798   \n",
       "\n",
       "   OBS_60_CNT_SOCIAL_CIRCLE  DEF_60_CNT_SOCIAL_CIRCLE  DAYS_LAST_PHONE_CHANGE  \\\n",
       "0                  0.258946                  5.281482               -0.324379   \n",
       "1                 -0.199899                 -0.329679                0.086181   \n",
       "\n",
       "   AMT_REQ_CREDIT_BUREAU_MON  AMT_REQ_CREDIT_BUREAU_YEAR  \n",
       "0                  -0.345601                   -0.587652  \n",
       "1                  -0.345601                   -1.208240  \n",
       "\n",
       "[2 rows x 168 columns]"
      ]
     },
     "execution_count": 99,
     "metadata": {},
     "output_type": "execute_result"
    }
   ],
   "source": [
    "X_smote_stand.head(2)"
   ]
  },
  {
   "cell_type": "code",
   "execution_count": 100,
   "metadata": {
    "scrolled": true
   },
   "outputs": [
    {
     "data": {
      "text/plain": [
       "{'CNT_CHILDREN': StandardScaler(),\n",
       " 'AMT_INCOME_TOTAL': StandardScaler(),\n",
       " 'AMT_CREDIT': StandardScaler(),\n",
       " 'AMT_ANNUITY': StandardScaler(),\n",
       " 'AMT_GOODS_PRICE': StandardScaler(),\n",
       " 'REGION_POPULATION_RELATIVE': StandardScaler(),\n",
       " 'DAYS_BIRTH': StandardScaler(),\n",
       " 'DAYS_EMPLOYED': StandardScaler(),\n",
       " 'DAYS_REGISTRATION': StandardScaler(),\n",
       " 'DAYS_ID_PUBLISH': StandardScaler(),\n",
       " 'CNT_FAM_MEMBERS': StandardScaler(),\n",
       " 'HOUR_APPR_PROCESS_START': StandardScaler(),\n",
       " 'EXT_SOURCE_2': StandardScaler(),\n",
       " 'EXT_SOURCE_3': StandardScaler(),\n",
       " 'OBS_30_CNT_SOCIAL_CIRCLE': StandardScaler(),\n",
       " 'DEF_30_CNT_SOCIAL_CIRCLE': StandardScaler(),\n",
       " 'OBS_60_CNT_SOCIAL_CIRCLE': StandardScaler(),\n",
       " 'DEF_60_CNT_SOCIAL_CIRCLE': StandardScaler(),\n",
       " 'DAYS_LAST_PHONE_CHANGE': StandardScaler(),\n",
       " 'AMT_REQ_CREDIT_BUREAU_MON': StandardScaler(),\n",
       " 'AMT_REQ_CREDIT_BUREAU_YEAR': StandardScaler()}"
      ]
     },
     "execution_count": 100,
     "metadata": {},
     "output_type": "execute_result"
    }
   ],
   "source": [
    "dict_standardization"
   ]
  },
  {
   "cell_type": "code",
   "execution_count": 101,
   "metadata": {},
   "outputs": [
    {
     "data": {
      "text/plain": [
       "(565372, 565372)"
      ]
     },
     "execution_count": 101,
     "metadata": {},
     "output_type": "execute_result"
    }
   ],
   "source": [
    "# We will use \"X_smote_stand\" and \"y_smote\"\n",
    "len(X_smote_stand), len(y_smote)"
   ]
  },
  {
   "cell_type": "code",
   "execution_count": 102,
   "metadata": {
    "scrolled": true
   },
   "outputs": [
    {
     "data": {
      "text/html": [
       "<div>\n",
       "<style scoped>\n",
       "    .dataframe tbody tr th:only-of-type {\n",
       "        vertical-align: middle;\n",
       "    }\n",
       "\n",
       "    .dataframe tbody tr th {\n",
       "        vertical-align: top;\n",
       "    }\n",
       "\n",
       "    .dataframe thead th {\n",
       "        text-align: right;\n",
       "    }\n",
       "</style>\n",
       "<table border=\"1\" class=\"dataframe\">\n",
       "  <thead>\n",
       "    <tr style=\"text-align: right;\">\n",
       "      <th></th>\n",
       "      <th>NAME_CONTRACT_TYPE_Cash loans</th>\n",
       "      <th>NAME_CONTRACT_TYPE_Revolving loans</th>\n",
       "      <th>CODE_GENDER_F</th>\n",
       "      <th>CODE_GENDER_M</th>\n",
       "      <th>FLAG_OWN_CAR_N</th>\n",
       "      <th>FLAG_OWN_CAR_Y</th>\n",
       "      <th>FLAG_OWN_REALTY_N</th>\n",
       "      <th>FLAG_OWN_REALTY_Y</th>\n",
       "      <th>NAME_TYPE_SUITE_Children</th>\n",
       "      <th>NAME_TYPE_SUITE_Family</th>\n",
       "      <th>...</th>\n",
       "      <th>EXT_SOURCE_2</th>\n",
       "      <th>EXT_SOURCE_3</th>\n",
       "      <th>OBS_30_CNT_SOCIAL_CIRCLE</th>\n",
       "      <th>DEF_30_CNT_SOCIAL_CIRCLE</th>\n",
       "      <th>OBS_60_CNT_SOCIAL_CIRCLE</th>\n",
       "      <th>DEF_60_CNT_SOCIAL_CIRCLE</th>\n",
       "      <th>DAYS_LAST_PHONE_CHANGE</th>\n",
       "      <th>AMT_REQ_CREDIT_BUREAU_MON</th>\n",
       "      <th>AMT_REQ_CREDIT_BUREAU_YEAR</th>\n",
       "      <th>TARGET</th>\n",
       "    </tr>\n",
       "  </thead>\n",
       "  <tbody>\n",
       "    <tr>\n",
       "      <th>0</th>\n",
       "      <td>1.0</td>\n",
       "      <td>0.0</td>\n",
       "      <td>0.0</td>\n",
       "      <td>1.0</td>\n",
       "      <td>1.0</td>\n",
       "      <td>0.0</td>\n",
       "      <td>0.0</td>\n",
       "      <td>1.0</td>\n",
       "      <td>0.0</td>\n",
       "      <td>0.0</td>\n",
       "      <td>...</td>\n",
       "      <td>-1.069298</td>\n",
       "      <td>-1.911051</td>\n",
       "      <td>0.248677</td>\n",
       "      <td>4.204997</td>\n",
       "      <td>0.258946</td>\n",
       "      <td>5.281482</td>\n",
       "      <td>-0.324379</td>\n",
       "      <td>-0.345601</td>\n",
       "      <td>-0.587652</td>\n",
       "      <td>1</td>\n",
       "    </tr>\n",
       "    <tr>\n",
       "      <th>1</th>\n",
       "      <td>1.0</td>\n",
       "      <td>0.0</td>\n",
       "      <td>1.0</td>\n",
       "      <td>0.0</td>\n",
       "      <td>1.0</td>\n",
       "      <td>0.0</td>\n",
       "      <td>1.0</td>\n",
       "      <td>0.0</td>\n",
       "      <td>0.0</td>\n",
       "      <td>1.0</td>\n",
       "      <td>...</td>\n",
       "      <td>0.811721</td>\n",
       "      <td>0.247623</td>\n",
       "      <td>-0.206084</td>\n",
       "      <td>-0.379798</td>\n",
       "      <td>-0.199899</td>\n",
       "      <td>-0.329679</td>\n",
       "      <td>0.086181</td>\n",
       "      <td>-0.345601</td>\n",
       "      <td>-1.208240</td>\n",
       "      <td>0</td>\n",
       "    </tr>\n",
       "  </tbody>\n",
       "</table>\n",
       "<p>2 rows × 169 columns</p>\n",
       "</div>"
      ],
      "text/plain": [
       "   NAME_CONTRACT_TYPE_Cash loans  NAME_CONTRACT_TYPE_Revolving loans  \\\n",
       "0                            1.0                                 0.0   \n",
       "1                            1.0                                 0.0   \n",
       "\n",
       "   CODE_GENDER_F  CODE_GENDER_M  FLAG_OWN_CAR_N  FLAG_OWN_CAR_Y  \\\n",
       "0            0.0            1.0             1.0             0.0   \n",
       "1            1.0            0.0             1.0             0.0   \n",
       "\n",
       "   FLAG_OWN_REALTY_N  FLAG_OWN_REALTY_Y  NAME_TYPE_SUITE_Children  \\\n",
       "0                0.0                1.0                       0.0   \n",
       "1                1.0                0.0                       0.0   \n",
       "\n",
       "   NAME_TYPE_SUITE_Family  ...  EXT_SOURCE_2  EXT_SOURCE_3  \\\n",
       "0                     0.0  ...     -1.069298     -1.911051   \n",
       "1                     1.0  ...      0.811721      0.247623   \n",
       "\n",
       "   OBS_30_CNT_SOCIAL_CIRCLE  DEF_30_CNT_SOCIAL_CIRCLE  \\\n",
       "0                  0.248677                  4.204997   \n",
       "1                 -0.206084                 -0.379798   \n",
       "\n",
       "   OBS_60_CNT_SOCIAL_CIRCLE  DEF_60_CNT_SOCIAL_CIRCLE  DAYS_LAST_PHONE_CHANGE  \\\n",
       "0                  0.258946                  5.281482               -0.324379   \n",
       "1                 -0.199899                 -0.329679                0.086181   \n",
       "\n",
       "   AMT_REQ_CREDIT_BUREAU_MON  AMT_REQ_CREDIT_BUREAU_YEAR  TARGET  \n",
       "0                  -0.345601                   -0.587652       1  \n",
       "1                  -0.345601                   -1.208240       0  \n",
       "\n",
       "[2 rows x 169 columns]"
      ]
     },
     "execution_count": 102,
     "metadata": {},
     "output_type": "execute_result"
    }
   ],
   "source": [
    "# Combine \"X_smote_stand\" and \"y_smote\" to save the data\n",
    "data_smote = pd.concat(objs = [X_smote_stand, y_smote], axis = 1)\n",
    "data_smote.head(2)"
   ]
  },
  {
   "cell_type": "code",
   "execution_count": 103,
   "metadata": {},
   "outputs": [
    {
     "data": {
      "text/plain": [
       "(565372, 169)"
      ]
     },
     "execution_count": 103,
     "metadata": {},
     "output_type": "execute_result"
    }
   ],
   "source": [
    "data_smote.shape"
   ]
  },
  {
   "cell_type": "code",
   "execution_count": 104,
   "metadata": {},
   "outputs": [],
   "source": [
    "data_smote.to_csv(\"data final_smote standardization.csv\")"
   ]
  },
  {
   "cell_type": "markdown",
   "metadata": {},
   "source": [
    "### 7. Modelling and Evaluation"
   ]
  },
  {
   "cell_type": "markdown",
   "metadata": {},
   "source": [
    "#### 7a. Logistic Regression"
   ]
  },
  {
   "cell_type": "code",
   "execution_count": 105,
   "metadata": {},
   "outputs": [],
   "source": [
    "from sklearn.linear_model import LogisticRegression\n",
    "from sklearn.model_selection import cross_val_score"
   ]
  },
  {
   "cell_type": "code",
   "execution_count": null,
   "metadata": {},
   "outputs": [],
   "source": [
    "# classifier = LogisticRegression(random_state = 42)\n",
    "# classifier.fit(X_smote_stand, y_smote)"
   ]
  },
  {
   "cell_type": "code",
   "execution_count": null,
   "metadata": {},
   "outputs": [],
   "source": [
    "logistic_classifier = LogisticRegression(random_state = 42)\n",
    "\n",
    "# USE CROSS VAL\n",
    "f1_logistic = cross_val_score(estimator = logistic_classifier, X = X_smote_stand, y = y_smote, scoring = \"f1\", cv = 5)"
   ]
  },
  {
   "cell_type": "code",
   "execution_count": null,
   "metadata": {},
   "outputs": [],
   "source": [
    "f1_logistic"
   ]
  },
  {
   "cell_type": "code",
   "execution_count": null,
   "metadata": {},
   "outputs": [],
   "source": [
    "f1_logistic.mean()"
   ]
  },
  {
   "cell_type": "code",
   "execution_count": null,
   "metadata": {},
   "outputs": [],
   "source": [
    "# Because the score is good, we will fit to the data and save the data (pickle)\n",
    "logistic_classifier.fit(X_smote_stand, y_smote)"
   ]
  },
  {
   "cell_type": "code",
   "execution_count": null,
   "metadata": {},
   "outputs": [],
   "source": [
    "import pickle\n",
    "with open(\"model_logistic_regression_ok.pkl\", \"wb\") as f:\n",
    "    pickle.dump(logistic_classifier, f)"
   ]
  },
  {
   "cell_type": "markdown",
   "metadata": {},
   "source": [
    "#### 7b. Random Forest"
   ]
  },
  {
   "cell_type": "code",
   "execution_count": null,
   "metadata": {},
   "outputs": [],
   "source": [
    "from sklearn.ensemble import RandomForestClassifier\n",
    "from sklearn.model_selection import cross_val_score"
   ]
  },
  {
   "cell_type": "code",
   "execution_count": null,
   "metadata": {},
   "outputs": [],
   "source": [
    "forest_classifier = RandomForestClassifier(random_state = 42)\n",
    "\n",
    "# USE CROSS VAL\n",
    "f1_forest = cross_val_score(estimator = forest_classifier, X = X_smote_stand, y = y_smote, scoring = \"f1\", cv = 5)"
   ]
  },
  {
   "cell_type": "code",
   "execution_count": null,
   "metadata": {},
   "outputs": [],
   "source": [
    "f1_forest"
   ]
  },
  {
   "cell_type": "code",
   "execution_count": null,
   "metadata": {},
   "outputs": [],
   "source": [
    "f1_forest.mean()"
   ]
  },
  {
   "cell_type": "code",
   "execution_count": null,
   "metadata": {},
   "outputs": [],
   "source": [
    "# Because the score is good, we will fit to the data and save the data (pickle)\n",
    "forest_classifier.fit(X_smote_stand, y_smote)"
   ]
  },
  {
   "cell_type": "code",
   "execution_count": null,
   "metadata": {},
   "outputs": [],
   "source": [
    "import pickle\n",
    "with open(\"model_random_forest_ok.pkl\", \"wb\") as f:\n",
    "    pickle.dump(forest_classifier, f)"
   ]
  },
  {
   "cell_type": "code",
   "execution_count": null,
   "metadata": {},
   "outputs": [],
   "source": []
  }
 ],
 "metadata": {
  "kernelspec": {
   "display_name": "Python 3",
   "language": "python",
   "name": "python3"
  },
  "language_info": {
   "codemirror_mode": {
    "name": "ipython",
    "version": 3
   },
   "file_extension": ".py",
   "mimetype": "text/x-python",
   "name": "python",
   "nbconvert_exporter": "python",
   "pygments_lexer": "ipython3",
   "version": "3.8.3"
  }
 },
 "nbformat": 4,
 "nbformat_minor": 4
}
